{
  "nbformat": 4,
  "nbformat_minor": 0,
  "metadata": {
    "colab": {
      "provenance": []
    },
    "kernelspec": {
      "name": "python3",
      "display_name": "Python 3"
    },
    "language_info": {
      "name": "python"
    }
  },
  "cells": [
    {
      "cell_type": "code",
      "source": [
        "!pip install pandas\n",
        "!pip install pandas-profiling"
      ],
      "metadata": {
        "id": "_lAlflH6mgQ-"
      },
      "execution_count": null,
      "outputs": []
    },
    {
      "cell_type": "code",
      "source": [
        "import numpy as np\n",
        "import pandas as pd\n",
        "import matplotlib.pyplot as plt\n",
        "import seaborn as sns\n",
        "%matplotlib inline\n",
        "from sklearn import preprocessing"
      ],
      "metadata": {
        "id": "SpSgepPhFjGe"
      },
      "execution_count": null,
      "outputs": []
    },
    {
      "cell_type": "code",
      "execution_count": null,
      "metadata": {
        "id": "eixw0RTZlTE1"
      },
      "outputs": [],
      "source": [
        "# Especifica la ubicación del archivo CSV\n",
        "archivo_csv = 'Casos_de_Dengue_en_Casanare_por_servicio_hospitalario__relaci_n_tipo_de_persona__s_ntomas_y_estado_hospitalario.csv'\n",
        "\n",
        "# Utiliza la función read_csv de pandas para cargar el archivo CSV en un DataFrame\n",
        "df = pd.read_csv(archivo_csv)\n",
        "# Ahora, el contenido del archivo CSV se encuentra en el DataFrame 'df'"
      ]
    },
    {
      "cell_type": "code",
      "source": [
        "# Convierte la columna 'fec_con_' a un formato de fecha y hora\n",
        "df['fec_con_'] = pd.to_datetime(df['fec_con_'])\n",
        "df['ini_sin_'] = pd.to_datetime(df['ini_sin_'])\n",
        "\n",
        "# Ahora puedes usar el atributo .dt para obtener el número del mes\n",
        "df['NumeroDeMes'] = df['fec_con_'].dt.month"
      ],
      "metadata": {
        "id": "CMulxjmACCRY"
      },
      "execution_count": null,
      "outputs": []
    },
    {
      "cell_type": "code",
      "source": [
        "# Calcula la diferencia entre las fechas y almacénala en una nueva columna 'dias_sint'\n",
        "df['dias_sint'] = (df['fec_con_'] - df['ini_sin_']).dt.days\n",
        "\n",
        "# Muestra el DataFrame resultante\n",
        "print(df['dias_sint'].describe())\n"
      ],
      "metadata": {
        "id": "eeeOmsca8ouO",
        "outputId": "32e61f07-3c8e-45ae-89a8-2e70103b5f19",
        "colab": {
          "base_uri": "https://localhost:8080/"
        }
      },
      "execution_count": null,
      "outputs": [
        {
          "output_type": "stream",
          "name": "stdout",
          "text": [
            "count    2010.000000\n",
            "mean        4.100498\n",
            "std         8.704933\n",
            "min         0.000000\n",
            "25%         3.000000\n",
            "50%         3.000000\n",
            "75%         5.000000\n",
            "max       367.000000\n",
            "Name: dias_sint, dtype: float64\n"
          ]
        }
      ]
    },
    {
      "cell_type": "code",
      "source": [
        "#eliminar los registros con valores atipicos en dias_sint\n",
        "\n",
        "# 1. Identificar los valores atípicos (por ejemplo, usando un criterio de desviación estándar)\n",
        "desviacion_estandar = df['dias_sint'].std()\n",
        "media = df['dias_sint'].mean()\n",
        "umbral = 2  # Puedes ajustar este umbral según tus necesidades\n",
        "\n",
        "valores_atipicos = (df['dias_sint'] - media).abs() > (umbral * desviacion_estandar)\n",
        "\n",
        "# 2. Filtrar el DataFrame para excluir los registros con valores atípicos\n",
        "df = df[~valores_atipicos]"
      ],
      "metadata": {
        "id": "oh4xAKxWnJ1J"
      },
      "execution_count": null,
      "outputs": []
    },
    {
      "cell_type": "code",
      "source": [
        "print(df['dias_sint'].describe())"
      ],
      "metadata": {
        "id": "Ttp3jw9ynTQt",
        "outputId": "f21cb8ee-e164-4526-d768-81992996153f",
        "colab": {
          "base_uri": "https://localhost:8080/"
        }
      },
      "execution_count": null,
      "outputs": [
        {
          "output_type": "stream",
          "name": "stdout",
          "text": [
            "count    1996.000000\n",
            "mean        3.727956\n",
            "std         2.037159\n",
            "min         0.000000\n",
            "25%         3.000000\n",
            "50%         3.000000\n",
            "75%         4.000000\n",
            "max        21.000000\n",
            "Name: dias_sint, dtype: float64\n"
          ]
        }
      ]
    },
    {
      "cell_type": "code",
      "source": [
        "#Vamos a dejar solo las dos clases mas relevantes\n",
        "df = df[df['clasfinal'] != 'No aplica']\n",
        "\n",
        "df['clasfinal'].unique()"
      ],
      "metadata": {
        "id": "8r8z8tJqKb5A",
        "outputId": "4ef7f707-7e78-4b9e-9f20-ee5e80fd4833",
        "colab": {
          "base_uri": "https://localhost:8080/"
        }
      },
      "execution_count": null,
      "outputs": [
        {
          "output_type": "execute_result",
          "data": {
            "text/plain": [
              "array(['Dengue con signomas de alarma', 'Dengue sin signomas de alarma'],\n",
              "      dtype=object)"
            ]
          },
          "metadata": {},
          "execution_count": 9
        }
      ]
    },
    {
      "cell_type": "code",
      "source": [
        "\n",
        "#Eliminar columnas numericas con baja varianza\n",
        "\n",
        "# Calcula la varianza de cada columna\n",
        "varianza = df.var()\n",
        "\n",
        "# Define un umbral para la varianza baja (por ejemplo, 0.01)\n",
        "umbral_varianza = 0.01\n",
        "\n",
        "# Encuentra las columnas con varianza baja\n",
        "columnas_varianza_baja = varianza[varianza < umbral_varianza].index.tolist()\n",
        "\n",
        "# Elimina las columnas con varianza baja y muestra sus nombres\n",
        "df = df.drop(columns=columnas_varianza_baja)\n",
        "print(\"Columnas eliminadas:\", columnas_varianza_baja)\n"
      ],
      "metadata": {
        "colab": {
          "base_uri": "https://localhost:8080/"
        },
        "id": "89dewQZ9sqwa",
        "outputId": "56728f20-4ddf-406d-c6f5-88be451045a0"
      },
      "execution_count": null,
      "outputs": [
        {
          "output_type": "stream",
          "name": "stdout",
          "text": [
            "Columnas eliminadas: ['cod_pre']\n"
          ]
        },
        {
          "output_type": "stream",
          "name": "stderr",
          "text": [
            "<ipython-input-10-d783ab737ae5>:4: FutureWarning: The default value of numeric_only in DataFrame.var is deprecated. In a future version, it will default to False. In addition, specifying 'numeric_only=None' is deprecated. Select only valid columns or specify the value of numeric_only to silence this warning.\n",
            "  varianza = df.var()\n"
          ]
        }
      ]
    },
    {
      "cell_type": "code",
      "source": [
        "# Encuentra las columnas constantes\n",
        "columnas_constantes = [col for col in df.columns if df[col].nunique() == 1]\n",
        "\n",
        "# Elimina las columnas constantes y muestra sus nombres\n",
        "df = df.drop(columns=columnas_constantes)\n",
        "print(\"Columnas eliminadas:\", columnas_constantes)"
      ],
      "metadata": {
        "id": "lMKFqL9cq3xD",
        "outputId": "d7b429ad-ae36-410e-ea58-7578908034e7",
        "colab": {
          "base_uri": "https://localhost:8080/"
        }
      },
      "execution_count": null,
      "outputs": [
        {
          "output_type": "stream",
          "name": "stdout",
          "text": [
            "Columnas eliminadas: ['ndep_resi', 'fiebre', 'gp_carcela', 'gp_indigen', 'gp_desmovi', 'gp_psiquia', 'gp_vic_vio', 'nom_eve']\n"
          ]
        }
      ]
    },
    {
      "cell_type": "markdown",
      "source": [
        "Se propone evaluar si una variable no es informativa si tiene demasiadas filas que tienen el mismo valor. Si más del 95% de filas tienen el mismo valor, se considera que la variable no aporta valor."
      ],
      "metadata": {
        "id": "-Fhq29of4bg7"
      }
    },
    {
      "cell_type": "code",
      "source": [
        "# Calcula la cantidad total de filas en el DataFrame\n",
        "num_rows = len(df.index)\n",
        "\n",
        "# Lista para almacenar las columnas con baja información\n",
        "low_information_cols = []\n",
        "\n",
        "# Itera a través de todas las columnas del DataFrame\n",
        "for col in df.columns:\n",
        "    # Calcula la frecuencia de cada valor en la columna\n",
        "    cnts = df[col].value_counts(dropna=False)\n",
        "\n",
        "    # Calcula el porcentaje del valor más frecuente\n",
        "    top_pct = (cnts / num_rows).iloc[0]\n",
        "\n",
        "    # Si el porcentaje del valor más frecuente es mayor al 95%\n",
        "    if top_pct > 0.95:\n",
        "        # Agrega la columna a la lista de baja información\n",
        "        low_information_cols.append(col)\n",
        "\n",
        "        # Muestra el nombre de la columna, el porcentaje y la frecuencia de valores\n",
        "        print(f'{col}: {top_pct*100:.5f}%')\n",
        "        print(cnts)\n",
        "        print()\n",
        "\n",
        "# Elimina las columnas de baja información del DataFrame\n",
        "df.drop(columns=low_information_cols, inplace=True)"
      ],
      "metadata": {
        "id": "4DY_Wa6Q4c0W"
      },
      "execution_count": null,
      "outputs": []
    },
    {
      "cell_type": "code",
      "source": [
        "# Eliminar columnas por reglas de negocio\n",
        "columnas_a_eliminar = [\"ini_sin_\",\"fec_not\", \"fec_con_\", \"fecha_nto_\", \"fec_aju_\", \"orden\",\"año\",\"cod_sub\", \"fec_arc_xl\",\"nom_upgd\"]\n",
        "df.drop(columns=columnas_a_eliminar, inplace=True)\n"
      ],
      "metadata": {
        "id": "RyFirD09RiH6"
      },
      "execution_count": null,
      "outputs": []
    },
    {
      "cell_type": "code",
      "source": [
        "# Encuentra las columnas con valores nulos\n",
        "df.isnull().sum()\n",
        "\n"
      ],
      "metadata": {
        "id": "DCrYfemwru8I",
        "outputId": "9689ac21-9a48-4bc9-afdb-08ad2d99f9ae",
        "colab": {
          "base_uri": "https://localhost:8080/"
        }
      },
      "execution_count": null,
      "outputs": [
        {
          "output_type": "execute_result",
          "data": {
            "text/plain": [
              "semana           0\n",
              "edad_            0\n",
              "sexo_            0\n",
              "Ciclo_de_vida    0\n",
              "cefalea          0\n",
              "dolrretroo       0\n",
              "malgias          0\n",
              "artralgia        0\n",
              "erupcionr        0\n",
              "dolor_abdo       0\n",
              "vomito           0\n",
              "diarrea          0\n",
              "pac_hos_         0\n",
              "caida_plaq       0\n",
              "clasfinal        0\n",
              "conducta         0\n",
              "NumeroDeMes      0\n",
              "dias_sint        0\n",
              "dtype: int64"
            ]
          },
          "metadata": {},
          "execution_count": 16
        }
      ]
    },
    {
      "cell_type": "markdown",
      "source": [
        "Se proponer realizar un Label Encoding para las variables categoricas.Este metodo consiste en convertir los valores de texto en un formato numérico, para asi sea un formato más legible para la máquina. Los algoritmos de machine learning pueden discretizar de una mejor manera cuando estan en formato númerico."
      ],
      "metadata": {
        "id": "wrOmV1aaQARC"
      }
    },
    {
      "cell_type": "code",
      "source": [
        "df[\"clasfinal\"].unique()"
      ],
      "metadata": {
        "id": "unVDPT7GM39M",
        "outputId": "23d515c1-de57-486c-e0a2-139dfe4a193d",
        "colab": {
          "base_uri": "https://localhost:8080/"
        }
      },
      "execution_count": null,
      "outputs": [
        {
          "output_type": "execute_result",
          "data": {
            "text/plain": [
              "array(['Dengue con signomas de alarma', 'Dengue sin signomas de alarma'],\n",
              "      dtype=object)"
            ]
          },
          "metadata": {},
          "execution_count": 17
        }
      ]
    },
    {
      "cell_type": "code",
      "source": [
        "le = preprocessing.LabelEncoder()\n",
        "#actualizamos las variables categoricas para incluir las nuevas.\n",
        "var_categoricas =  df.select_dtypes(include=['object']).columns\n",
        "\n",
        "\n",
        "for variable in var_categoricas:\n",
        "  df[variable] = le.fit_transform(df[variable])"
      ],
      "metadata": {
        "id": "mdUq8cJBQEAv"
      },
      "execution_count": null,
      "outputs": []
    },
    {
      "cell_type": "markdown",
      "source": [
        "Para la eliminación de variables se propone la técnica \"Backward Elimination\" o eliminación hacia atrás, en español, es un enfoque utilizado en el análisis de regresión para seleccionar las variables más relevantes para un modelo de forma iterativa. El objetivo de esta técnica es eliminar de manera gradual las variables irrelevantes o menos significativas para mejorar el rendimiento del modelo."
      ],
      "metadata": {
        "id": "bf76TOsURQl5"
      }
    },
    {
      "cell_type": "code",
      "source": [
        "import statsmodels.api as sm\n",
        "import pandas as pd\n",
        "# Dividir los datos en variables predictoras (X) y variable objetivo (y)\n",
        "X = df[df.columns[df.columns != 'clasfinal']] # Seleccionar todas las columnas excepto la última\n",
        "y = df.clasfinal  # Seleccionar la última columna\n",
        "\n",
        "# Agregar una columna de unos para representar el término constante en el modelo\n",
        "X = sm.add_constant(X)\n",
        "\n",
        "# Ajustar el modelo de regresión inicial\n",
        "model = sm.OLS(y, X)\n",
        "results = model.fit()\n",
        "\n",
        "# Crear una lista para almacenar los nombres de las variables eliminadas\n",
        "variables_eliminadas = []\n",
        "\n",
        "# Realizar la eliminación hacia atrás iterativa\n",
        "while len(X.columns) > 1:\n",
        "    # Obtener el valor p más alto en el modelo actual\n",
        "    max_p_value = results.pvalues[1:]\n",
        "    max_p_index = max_p_value.idxmax()\n",
        "\n",
        "    # Si el valor p máximo es mayor que un umbral predefinido, eliminar la variable correspondiente\n",
        "    if max_p_value[max_p_index] > 0.5:\n",
        "        variables_eliminadas.append(max_p_index)\n",
        "        X = X.drop(max_p_index, axis=1)\n",
        "\n",
        "        # Volver a ajustar el modelo sin la variable eliminada\n",
        "        model = sm.OLS(y, X)\n",
        "        results = model.fit()\n",
        "    else:\n",
        "        break\n",
        "\n",
        "# Obtener los resultados finales\n",
        "print(results.summary())\n",
        "\n",
        "# Imprimir los nombres de las variables eliminadas\n",
        "print(\"Variables eliminadas:\", variables_eliminadas)"
      ],
      "metadata": {
        "id": "nIZnkPaMRG5H",
        "outputId": "6995b280-aad7-4f3a-f15d-8d72c1f704b8",
        "colab": {
          "base_uri": "https://localhost:8080/"
        }
      },
      "execution_count": null,
      "outputs": [
        {
          "output_type": "stream",
          "name": "stdout",
          "text": [
            "                            OLS Regression Results                            \n",
            "==============================================================================\n",
            "Dep. Variable:              clasfinal   R-squared:                       0.230\n",
            "Model:                            OLS   Adj. R-squared:                  0.225\n",
            "Method:                 Least Squares   F-statistic:                     49.31\n",
            "Date:                Wed, 06 Sep 2023   Prob (F-statistic):          1.92e-103\n",
            "Time:                        02:27:14   Log-Likelihood:                -1186.3\n",
            "No. Observations:                1994   AIC:                             2399.\n",
            "Df Residuals:                    1981   BIC:                             2471.\n",
            "Df Model:                          12                                         \n",
            "Covariance Type:            nonrobust                                         \n",
            "=================================================================================\n",
            "                    coef    std err          t      P>|t|      [0.025      0.975]\n",
            "---------------------------------------------------------------------------------\n",
            "const             0.8095      0.048     17.042      0.000       0.716       0.903\n",
            "semana           -0.0022      0.001     -2.650      0.008      -0.004      -0.001\n",
            "sexo_            -0.0273      0.020     -1.379      0.168      -0.066       0.012\n",
            "Ciclo_de_vida    -0.0088      0.006     -1.444      0.149      -0.021       0.003\n",
            "dolrretroo       -0.0447      0.020     -2.204      0.028      -0.084      -0.005\n",
            "malgias          -0.0276      0.031     -0.877      0.381      -0.089       0.034\n",
            "artralgia        -0.2460      0.024    -10.158      0.000      -0.293      -0.198\n",
            "erupcionr         0.0221      0.022      0.994      0.320      -0.021       0.066\n",
            "dolor_abdo       -0.0473      0.028     -1.696      0.090      -0.102       0.007\n",
            "vomito           -0.0455      0.029     -1.580      0.114      -0.102       0.011\n",
            "pac_hos_          0.4106      0.035     11.901      0.000       0.343       0.478\n",
            "conducta         -0.3726      0.018    -20.615      0.000      -0.408      -0.337\n",
            "dias_sint         0.0037      0.005      0.753      0.451      -0.006       0.013\n",
            "==============================================================================\n",
            "Omnibus:                       76.764   Durbin-Watson:                   1.832\n",
            "Prob(Omnibus):                  0.000   Jarque-Bera (JB):               46.877\n",
            "Skew:                           0.235   Prob(JB):                     6.62e-11\n",
            "Kurtosis:                       2.415   Cond. No.                         134.\n",
            "==============================================================================\n",
            "\n",
            "Notes:\n",
            "[1] Standard Errors assume that the covariance matrix of the errors is correctly specified.\n",
            "Variables eliminadas: ['cefalea', 'caida_plaq', 'NumeroDeMes', 'diarrea', 'edad_']\n"
          ]
        }
      ]
    },
    {
      "cell_type": "code",
      "source": [
        "# Eliminar columnas por reglas de negocio\n",
        "columnas_a_eliminar = ['cefalea', 'edad_', 'NumeroDeMes', 'diarrea', 'erupcionr', 'caida_plaq']\n",
        "df.drop(columns=columnas_a_eliminar, inplace=True)\n"
      ],
      "metadata": {
        "id": "rfwNNejd0PTA"
      },
      "execution_count": null,
      "outputs": []
    },
    {
      "cell_type": "markdown",
      "source": [
        "Para la selección de datos se propone usar la metrica: Correlación.\n",
        "\n",
        "La correlación es una medida estadística que expresa la fuerza de la relación entre dos variables. Los dos tipos principales de correlación son positivos y negativos. La correlación positiva ocurre cuando dos variables se mueven en la misma dirección; a medida que uno aumenta, también lo hace el otro. La negativa, cuando dos variables se mueven en direcciones opuestas; a medida que uno aumenta, el otro disminuye."
      ],
      "metadata": {
        "id": "RfSUX0sh1BD-"
      }
    },
    {
      "cell_type": "code",
      "source": [
        "corrmat = df.corr()\n",
        "cmap = sns.diverging_palette(260,-10,s=50, l=75, n=6, as_cmap=True)\n",
        "plt.subplots(figsize=(18,18))\n",
        "sns.heatmap(corrmat, fmt='.2f', cmap= cmap,annot=True, square=True)"
      ],
      "metadata": {
        "id": "5Dbclea1vzvg",
        "outputId": "4ca132a0-5abe-4b98-cd5c-df972a1742d2",
        "colab": {
          "base_uri": "https://localhost:8080/",
          "height": 1000
        }
      },
      "execution_count": null,
      "outputs": [
        {
          "output_type": "execute_result",
          "data": {
            "text/plain": [
              "<Axes: >"
            ]
          },
          "metadata": {},
          "execution_count": 23
        },
        {
          "output_type": "display_data",
          "data": {
            "text/plain": [
              "<Figure size 1800x1800 with 2 Axes>"
            ],
            "image/png": "[encoded data removed]"
          },
          "metadata": {}
        }
      ]
    },
    {
      "cell_type": "markdown",
      "source": [
        "En ningun caso se supera el limite de 95% de correlación entre variables"
      ],
      "metadata": {
        "id": "_X9lXJH81I_H"
      }
    },
    {
      "cell_type": "markdown",
      "source": [
        "En este punto se da por finalizado el Procesamiento y se grantixa la calidad de los Datos."
      ],
      "metadata": {
        "id": "LDRAYpnr1QTx"
      }
    },
    {
      "cell_type": "code",
      "source": [
        "# Contar el número de filas y columnas\n",
        "num_filas, num_columnas = df.shape\n",
        "\n",
        "# Mostrar el número de filas y columnas\n",
        "print(\"Número de filas:\", num_filas)\n",
        "print(\"Número de columnas:\", num_columnas)\n",
        "# Supongamos que tienes un DataFrame llamado df\n",
        "column_names = df.columns.tolist()\n",
        "\n",
        "# Imprime la lista de nombres de columnas\n",
        "print(column_names)"
      ],
      "metadata": {
        "id": "l5MAZhvID9NX",
        "outputId": "b6c34e6c-e53e-4945-9e3e-2c69eda238f0",
        "colab": {
          "base_uri": "https://localhost:8080/"
        }
      },
      "execution_count": null,
      "outputs": [
        {
          "output_type": "stream",
          "name": "stdout",
          "text": [
            "Número de filas: 1994\n",
            "Número de columnas: 12\n",
            "['semana', 'sexo_', 'Ciclo_de_vida', 'dolrretroo', 'malgias', 'artralgia', 'dolor_abdo', 'vomito', 'pac_hos_', 'clasfinal', 'conducta', 'dias_sint']\n"
          ]
        }
      ]
    },
    {
      "cell_type": "code",
      "source": [
        "# Guardar cambios en archivo CSV\n",
        "df.to_csv('dengue_procesado.csv', index=False)"
      ],
      "metadata": {
        "id": "8PIC8lO-1xDK"
      },
      "execution_count": null,
      "outputs": []
    },
    {
      "cell_type": "markdown",
      "source": [
        "##Modelado + Evaluación + Despliegue"
      ],
      "metadata": {
        "id": "BdaFIv6O2kJF"
      }
    },
    {
      "cell_type": "markdown",
      "source": [
        "Lectura del dataset generado en la fase de \"Preparación de los datos\""
      ],
      "metadata": {
        "id": "tw5ltSU22rRD"
      }
    },
    {
      "cell_type": "code",
      "source": [
        "datos = pd.read_csv('dengue_procesado.csv', sep=',')\n",
        "print(datos.columns)\n",
        "datos.describe()"
      ],
      "metadata": {
        "id": "ZLVBYdJ22v-G",
        "outputId": "f38ca0ee-3870-4e51-8b61-6053c20e234d",
        "colab": {
          "base_uri": "https://localhost:8080/",
          "height": 390
        }
      },
      "execution_count": null,
      "outputs": [
        {
          "output_type": "stream",
          "name": "stdout",
          "text": [
            "Index(['semana', 'sexo_', 'Ciclo_de_vida', 'dolrretroo', 'malgias',\n",
            "       'artralgia', 'dolor_abdo', 'vomito', 'pac_hos_', 'clasfinal',\n",
            "       'conducta', 'dias_sint'],\n",
            "      dtype='object')\n"
          ]
        },
        {
          "output_type": "execute_result",
          "data": {
            "text/plain": [
              "            semana        sexo_  Ciclo_de_vida   dolrretroo      malgias  \\\n",
              "count  1994.000000  1994.000000    1994.000000  1994.000000  1994.000000   \n",
              "mean     21.556670     0.480441       2.225176     0.465898     0.883149   \n",
              "std      12.051114     0.499743       1.653941     0.498961     0.321323   \n",
              "min       1.000000     0.000000       0.000000     0.000000     0.000000   \n",
              "25%      13.000000     0.000000       1.000000     0.000000     1.000000   \n",
              "50%      19.000000     0.000000       2.000000     0.000000     1.000000   \n",
              "75%      28.000000     1.000000       4.000000     1.000000     1.000000   \n",
              "max      53.000000     1.000000       4.000000     1.000000     1.000000   \n",
              "\n",
              "         artralgia   dolor_abdo       vomito     pac_hos_    clasfinal  \\\n",
              "count  1994.000000  1994.000000  1994.000000  1994.000000  1994.000000   \n",
              "mean      0.294885     0.266299     0.190572     0.476429     0.491474   \n",
              "std       0.456105     0.442133     0.392851     0.499569     0.500053   \n",
              "min       0.000000     0.000000     0.000000     0.000000     0.000000   \n",
              "25%       0.000000     0.000000     0.000000     0.000000     0.000000   \n",
              "50%       0.000000     0.000000     0.000000     0.000000     0.000000   \n",
              "75%       1.000000     1.000000     0.000000     1.000000     1.000000   \n",
              "max       1.000000     1.000000     1.000000     1.000000     1.000000   \n",
              "\n",
              "          conducta    dias_sint  \n",
              "count  1994.000000  1994.000000  \n",
              "mean      0.842528     3.721665  \n",
              "std       0.962559     2.019539  \n",
              "min       0.000000     0.000000  \n",
              "25%       0.000000     3.000000  \n",
              "50%       0.000000     3.000000  \n",
              "75%       2.000000     4.000000  \n",
              "max       4.000000    21.000000  "
            ],
            "text/html": [
              "\n",
              "  <div id=\"df-e0d6b74b-a2cf-4299-a882-993f1ddf8205\" class=\"colab-df-container\">\n",
              "    <div>\n",
              "<style scoped>\n",
              "    .dataframe tbody tr th:only-of-type {\n",
              "        vertical-align: middle;\n",
              "    }\n",
              "\n",
              "    .dataframe tbody tr th {\n",
              "        vertical-align: top;\n",
              "    }\n",
              "\n",
              "    .dataframe thead th {\n",
              "        text-align: right;\n",
              "    }\n",
              "</style>\n",
              "<table border=\"1\" class=\"dataframe\">\n",
              "  <thead>\n",
              "    <tr style=\"text-align: right;\">\n",
              "      <th></th>\n",
              "      <th>semana</th>\n",
              "      <th>sexo_</th>\n",
              "      <th>Ciclo_de_vida</th>\n",
              "      <th>dolrretroo</th>\n",
              "      <th>malgias</th>\n",
              "      <th>artralgia</th>\n",
              "      <th>dolor_abdo</th>\n",
              "      <th>vomito</th>\n",
              "      <th>pac_hos_</th>\n",
              "      <th>clasfinal</th>\n",
              "      <th>conducta</th>\n",
              "      <th>dias_sint</th>\n",
              "    </tr>\n",
              "  </thead>\n",
              "  <tbody>\n",
              "    <tr>\n",
              "      <th>count</th>\n",
              "      <td>1994.000000</td>\n",
              "      <td>1994.000000</td>\n",
              "      <td>1994.000000</td>\n",
              "      <td>1994.000000</td>\n",
              "      <td>1994.000000</td>\n",
              "      <td>1994.000000</td>\n",
              "      <td>1994.000000</td>\n",
              "      <td>1994.000000</td>\n",
              "      <td>1994.000000</td>\n",
              "      <td>1994.000000</td>\n",
              "      <td>1994.000000</td>\n",
              "      <td>1994.000000</td>\n",
              "    </tr>\n",
              "    <tr>\n",
              "      <th>mean</th>\n",
              "      <td>21.556670</td>\n",
              "      <td>0.480441</td>\n",
              "      <td>2.225176</td>\n",
              "      <td>0.465898</td>\n",
              "      <td>0.883149</td>\n",
              "      <td>0.294885</td>\n",
              "      <td>0.266299</td>\n",
              "      <td>0.190572</td>\n",
              "      <td>0.476429</td>\n",
              "      <td>0.491474</td>\n",
              "      <td>0.842528</td>\n",
              "      <td>3.721665</td>\n",
              "    </tr>\n",
              "    <tr>\n",
              "      <th>std</th>\n",
              "      <td>12.051114</td>\n",
              "      <td>0.499743</td>\n",
              "      <td>1.653941</td>\n",
              "      <td>0.498961</td>\n",
              "      <td>0.321323</td>\n",
              "      <td>0.456105</td>\n",
              "      <td>0.442133</td>\n",
              "      <td>0.392851</td>\n",
              "      <td>0.499569</td>\n",
              "      <td>0.500053</td>\n",
              "      <td>0.962559</td>\n",
              "      <td>2.019539</td>\n",
              "    </tr>\n",
              "    <tr>\n",
              "      <th>min</th>\n",
              "      <td>1.000000</td>\n",
              "      <td>0.000000</td>\n",
              "      <td>0.000000</td>\n",
              "      <td>0.000000</td>\n",
              "      <td>0.000000</td>\n",
              "      <td>0.000000</td>\n",
              "      <td>0.000000</td>\n",
              "      <td>0.000000</td>\n",
              "      <td>0.000000</td>\n",
              "      <td>0.000000</td>\n",
              "      <td>0.000000</td>\n",
              "      <td>0.000000</td>\n",
              "    </tr>\n",
              "    <tr>\n",
              "      <th>25%</th>\n",
              "      <td>13.000000</td>\n",
              "      <td>0.000000</td>\n",
              "      <td>1.000000</td>\n",
              "      <td>0.000000</td>\n",
              "      <td>1.000000</td>\n",
              "      <td>0.000000</td>\n",
              "      <td>0.000000</td>\n",
              "      <td>0.000000</td>\n",
              "      <td>0.000000</td>\n",
              "      <td>0.000000</td>\n",
              "      <td>0.000000</td>\n",
              "      <td>3.000000</td>\n",
              "    </tr>\n",
              "    <tr>\n",
              "      <th>50%</th>\n",
              "      <td>19.000000</td>\n",
              "      <td>0.000000</td>\n",
              "      <td>2.000000</td>\n",
              "      <td>0.000000</td>\n",
              "      <td>1.000000</td>\n",
              "      <td>0.000000</td>\n",
              "      <td>0.000000</td>\n",
              "      <td>0.000000</td>\n",
              "      <td>0.000000</td>\n",
              "      <td>0.000000</td>\n",
              "      <td>0.000000</td>\n",
              "      <td>3.000000</td>\n",
              "    </tr>\n",
              "    <tr>\n",
              "      <th>75%</th>\n",
              "      <td>28.000000</td>\n",
              "      <td>1.000000</td>\n",
              "      <td>4.000000</td>\n",
              "      <td>1.000000</td>\n",
              "      <td>1.000000</td>\n",
              "      <td>1.000000</td>\n",
              "      <td>1.000000</td>\n",
              "      <td>0.000000</td>\n",
              "      <td>1.000000</td>\n",
              "      <td>1.000000</td>\n",
              "      <td>2.000000</td>\n",
              "      <td>4.000000</td>\n",
              "    </tr>\n",
              "    <tr>\n",
              "      <th>max</th>\n",
              "      <td>53.000000</td>\n",
              "      <td>1.000000</td>\n",
              "      <td>4.000000</td>\n",
              "      <td>1.000000</td>\n",
              "      <td>1.000000</td>\n",
              "      <td>1.000000</td>\n",
              "      <td>1.000000</td>\n",
              "      <td>1.000000</td>\n",
              "      <td>1.000000</td>\n",
              "      <td>1.000000</td>\n",
              "      <td>4.000000</td>\n",
              "      <td>21.000000</td>\n",
              "    </tr>\n",
              "  </tbody>\n",
              "</table>\n",
              "</div>\n",
              "    <div class=\"colab-df-buttons\">\n",
              "\n",
              "  <div class=\"colab-df-container\">\n",
              "    <button class=\"colab-df-convert\" onclick=\"convertToInteractive('df-e0d6b74b-a2cf-4299-a882-993f1ddf8205')\"\n",
              "            title=\"Convert this dataframe to an interactive table.\"\n",
              "            style=\"display:none;\">\n",
              "\n",
              "  <svg xmlns=\"http://www.w3.org/2000/svg\" height=\"24px\" viewBox=\"0 -960 960 960\">\n",
              "    <path d=\"M120-120v-720h720v720H120Zm60-500h600v-160H180v160Zm220 220h160v-160H400v160Zm0 220h160v-160H400v160ZM180-400h160v-160H180v160Zm440 0h160v-160H620v160ZM180-180h160v-160H180v160Zm440 0h160v-160H620v160Z\"/>\n",
              "  </svg>\n",
              "    </button>\n",
              "\n",
              "  <style>\n",
              "    .colab-df-container {\n",
              "      display:flex;\n",
              "      gap: 12px;\n",
              "    }\n",
              "\n",
              "    .colab-df-convert {\n",
              "      background-color: #E8F0FE;\n",
              "      border: none;\n",
              "      border-radius: 50%;\n",
              "      cursor: pointer;\n",
              "      display: none;\n",
              "      fill: #1967D2;\n",
              "      height: 32px;\n",
              "      padding: 0 0 0 0;\n",
              "      width: 32px;\n",
              "    }\n",
              "\n",
              "    .colab-df-convert:hover {\n",
              "      background-color: #E2EBFA;\n",
              "      box-shadow: 0px 1px 2px rgba(60, 64, 67, 0.3), 0px 1px 3px 1px rgba(60, 64, 67, 0.15);\n",
              "      fill: #174EA6;\n",
              "    }\n",
              "\n",
              "    .colab-df-buttons div {\n",
              "      margin-bottom: 4px;\n",
              "    }\n",
              "\n",
              "    [theme=dark] .colab-df-convert {\n",
              "      background-color: #3B4455;\n",
              "      fill: #D2E3FC;\n",
              "    }\n",
              "\n",
              "    [theme=dark] .colab-df-convert:hover {\n",
              "      background-color: #434B5C;\n",
              "      box-shadow: 0px 1px 3px 1px rgba(0, 0, 0, 0.15);\n",
              "      filter: drop-shadow(0px 1px 2px rgba(0, 0, 0, 0.3));\n",
              "      fill: #FFFFFF;\n",
              "    }\n",
              "  </style>\n",
              "\n",
              "    <script>\n",
              "      const buttonEl =\n",
              "        document.querySelector('#df-e0d6b74b-a2cf-4299-a882-993f1ddf8205 button.colab-df-convert');\n",
              "      buttonEl.style.display =\n",
              "        google.colab.kernel.accessAllowed ? 'block' : 'none';\n",
              "\n",
              "      async function convertToInteractive(key) {\n",
              "        const element = document.querySelector('#df-e0d6b74b-a2cf-4299-a882-993f1ddf8205');\n",
              "        const dataTable =\n",
              "          await google.colab.kernel.invokeFunction('convertToInteractive',\n",
              "                                                    [key], {});\n",
              "        if (!dataTable) return;\n",
              "\n",
              "        const docLinkHtml = 'Like what you see? Visit the ' +\n",
              "          '<a target=\"_blank\" href=https://colab.research.google.com/notebooks/data_table.ipynb>data table notebook</a>'\n",
              "          + ' to learn more about interactive tables.';\n",
              "        element.innerHTML = '';\n",
              "        dataTable['output_type'] = 'display_data';\n",
              "        await google.colab.output.renderOutput(dataTable, element);\n",
              "        const docLink = document.createElement('div');\n",
              "        docLink.innerHTML = docLinkHtml;\n",
              "        element.appendChild(docLink);\n",
              "      }\n",
              "    </script>\n",
              "  </div>\n",
              "\n",
              "\n",
              "<div id=\"df-f67c41e1-237d-4a1f-ac29-0a2eba93187a\">\n",
              "  <button class=\"colab-df-quickchart\" onclick=\"quickchart('df-f67c41e1-237d-4a1f-ac29-0a2eba93187a')\"\n",
              "            title=\"Suggest charts.\"\n",
              "            style=\"display:none;\">\n",
              "\n",
              "<svg xmlns=\"http://www.w3.org/2000/svg\" height=\"24px\"viewBox=\"0 0 24 24\"\n",
              "     width=\"24px\">\n",
              "    <g>\n",
              "        <path d=\"M19 3H5c-1.1 0-2 .9-2 2v14c0 1.1.9 2 2 2h14c1.1 0 2-.9 2-2V5c0-1.1-.9-2-2-2zM9 17H7v-7h2v7zm4 0h-2V7h2v10zm4 0h-2v-4h2v4z\"/>\n",
              "    </g>\n",
              "</svg>\n",
              "  </button>\n",
              "\n",
              "<style>\n",
              "  .colab-df-quickchart {\n",
              "      --bg-color: #E8F0FE;\n",
              "      --fill-color: #1967D2;\n",
              "      --hover-bg-color: #E2EBFA;\n",
              "      --hover-fill-color: #174EA6;\n",
              "      --disabled-fill-color: #AAA;\n",
              "      --disabled-bg-color: #DDD;\n",
              "  }\n",
              "\n",
              "  [theme=dark] .colab-df-quickchart {\n",
              "      --bg-color: #3B4455;\n",
              "      --fill-color: #D2E3FC;\n",
              "      --hover-bg-color: #434B5C;\n",
              "      --hover-fill-color: #FFFFFF;\n",
              "      --disabled-bg-color: #3B4455;\n",
              "      --disabled-fill-color: #666;\n",
              "  }\n",
              "\n",
              "  .colab-df-quickchart {\n",
              "    background-color: var(--bg-color);\n",
              "    border: none;\n",
              "    border-radius: 50%;\n",
              "    cursor: pointer;\n",
              "    display: none;\n",
              "    fill: var(--fill-color);\n",
              "    height: 32px;\n",
              "    padding: 0;\n",
              "    width: 32px;\n",
              "  }\n",
              "\n",
              "  .colab-df-quickchart:hover {\n",
              "    background-color: var(--hover-bg-color);\n",
              "    box-shadow: 0 1px 2px rgba(60, 64, 67, 0.3), 0 1px 3px 1px rgba(60, 64, 67, 0.15);\n",
              "    fill: var(--button-hover-fill-color);\n",
              "  }\n",
              "\n",
              "  .colab-df-quickchart-complete:disabled,\n",
              "  .colab-df-quickchart-complete:disabled:hover {\n",
              "    background-color: var(--disabled-bg-color);\n",
              "    fill: var(--disabled-fill-color);\n",
              "    box-shadow: none;\n",
              "  }\n",
              "\n",
              "  .colab-df-spinner {\n",
              "    border: 2px solid var(--fill-color);\n",
              "    border-color: transparent;\n",
              "    border-bottom-color: var(--fill-color);\n",
              "    animation:\n",
              "      spin 1s steps(1) infinite;\n",
              "  }\n",
              "\n",
              "  @keyframes spin {\n",
              "    0% {\n",
              "      border-color: transparent;\n",
              "      border-bottom-color: var(--fill-color);\n",
              "      border-left-color: var(--fill-color);\n",
              "    }\n",
              "    20% {\n",
              "      border-color: transparent;\n",
              "      border-left-color: var(--fill-color);\n",
              "      border-top-color: var(--fill-color);\n",
              "    }\n",
              "    30% {\n",
              "      border-color: transparent;\n",
              "      border-left-color: var(--fill-color);\n",
              "      border-top-color: var(--fill-color);\n",
              "      border-right-color: var(--fill-color);\n",
              "    }\n",
              "    40% {\n",
              "      border-color: transparent;\n",
              "      border-right-color: var(--fill-color);\n",
              "      border-top-color: var(--fill-color);\n",
              "    }\n",
              "    60% {\n",
              "      border-color: transparent;\n",
              "      border-right-color: var(--fill-color);\n",
              "    }\n",
              "    80% {\n",
              "      border-color: transparent;\n",
              "      border-right-color: var(--fill-color);\n",
              "      border-bottom-color: var(--fill-color);\n",
              "    }\n",
              "    90% {\n",
              "      border-color: transparent;\n",
              "      border-bottom-color: var(--fill-color);\n",
              "    }\n",
              "  }\n",
              "</style>\n",
              "\n",
              "  <script>\n",
              "    async function quickchart(key) {\n",
              "      const quickchartButtonEl =\n",
              "        document.querySelector('#' + key + ' button');\n",
              "      quickchartButtonEl.disabled = true;  // To prevent multiple clicks.\n",
              "      quickchartButtonEl.classList.add('colab-df-spinner');\n",
              "      try {\n",
              "        const charts = await google.colab.kernel.invokeFunction(\n",
              "            'suggestCharts', [key], {});\n",
              "      } catch (error) {\n",
              "        console.error('Error during call to suggestCharts:', error);\n",
              "      }\n",
              "      quickchartButtonEl.classList.remove('colab-df-spinner');\n",
              "      quickchartButtonEl.classList.add('colab-df-quickchart-complete');\n",
              "    }\n",
              "    (() => {\n",
              "      let quickchartButtonEl =\n",
              "        document.querySelector('#df-f67c41e1-237d-4a1f-ac29-0a2eba93187a button');\n",
              "      quickchartButtonEl.style.display =\n",
              "        google.colab.kernel.accessAllowed ? 'block' : 'none';\n",
              "    })();\n",
              "  </script>\n",
              "</div>\n",
              "    </div>\n",
              "  </div>\n"
            ]
          },
          "metadata": {},
          "execution_count": 26
        }
      ]
    },
    {
      "cell_type": "code",
      "source": [
        "\n",
        "# Labels (etiquetas)\n",
        "labels = datos['clasfinal']\n",
        "\n",
        "# Features (características)\n",
        "features = datos[['semana', 'sexo_', 'Ciclo_de_vida', 'dolrretroo', 'malgias',\n",
        "               'artralgia', 'dolor_abdo', 'vomito', 'pac_hos_', 'conducta', 'dias_sint']]\n"
      ],
      "metadata": {
        "id": "lKoVJIlv34Tp"
      },
      "execution_count": null,
      "outputs": []
    },
    {
      "cell_type": "code",
      "source": [
        "print(f\"Vista de los datos del atributo target: \\n{labels[:10]}\")\n",
        "print(\"-\"*50)\n",
        "print(\"Vista parcial de los datos sin el atributo target:\")\n",
        "features.head()"
      ],
      "metadata": {
        "id": "csBoEkbD4APf",
        "outputId": "884bf5d4-c4b2-499d-973d-ca2c46cff0cc",
        "colab": {
          "base_uri": "https://localhost:8080/",
          "height": 449
        }
      },
      "execution_count": null,
      "outputs": [
        {
          "output_type": "stream",
          "name": "stdout",
          "text": [
            "Vista de los datos del atributo target: \n",
            "0    0\n",
            "1    0\n",
            "2    0\n",
            "3    0\n",
            "4    1\n",
            "5    0\n",
            "6    0\n",
            "7    0\n",
            "8    0\n",
            "9    1\n",
            "Name: clasfinal, dtype: int64\n",
            "--------------------------------------------------\n",
            "Vista parcial de los datos sin el atributo target:\n"
          ]
        },
        {
          "output_type": "execute_result",
          "data": {
            "text/plain": [
              "   semana  sexo_  Ciclo_de_vida  dolrretroo  malgias  artralgia  dolor_abdo  \\\n",
              "0      40      0              2           0        1          0           0   \n",
              "1      41      0              2           0        1          1           0   \n",
              "2      40      1              4           0        1          0           0   \n",
              "3      33      0              3           0        1          1           0   \n",
              "4      41      0              2           0        0          1           1   \n",
              "\n",
              "   vomito  pac_hos_  conducta  dias_sint  \n",
              "0       0         0         0          6  \n",
              "1       0         0         0          2  \n",
              "2       0         0         0          5  \n",
              "3       0         0         0          5  \n",
              "4       0         1         1          0  "
            ],
            "text/html": [
              "\n",
              "  <div id=\"df-602cc124-47cb-4404-98d0-2e4a4a4eb0f9\" class=\"colab-df-container\">\n",
              "    <div>\n",
              "<style scoped>\n",
              "    .dataframe tbody tr th:only-of-type {\n",
              "        vertical-align: middle;\n",
              "    }\n",
              "\n",
              "    .dataframe tbody tr th {\n",
              "        vertical-align: top;\n",
              "    }\n",
              "\n",
              "    .dataframe thead th {\n",
              "        text-align: right;\n",
              "    }\n",
              "</style>\n",
              "<table border=\"1\" class=\"dataframe\">\n",
              "  <thead>\n",
              "    <tr style=\"text-align: right;\">\n",
              "      <th></th>\n",
              "      <th>semana</th>\n",
              "      <th>sexo_</th>\n",
              "      <th>Ciclo_de_vida</th>\n",
              "      <th>dolrretroo</th>\n",
              "      <th>malgias</th>\n",
              "      <th>artralgia</th>\n",
              "      <th>dolor_abdo</th>\n",
              "      <th>vomito</th>\n",
              "      <th>pac_hos_</th>\n",
              "      <th>conducta</th>\n",
              "      <th>dias_sint</th>\n",
              "    </tr>\n",
              "  </thead>\n",
              "  <tbody>\n",
              "    <tr>\n",
              "      <th>0</th>\n",
              "      <td>40</td>\n",
              "      <td>0</td>\n",
              "      <td>2</td>\n",
              "      <td>0</td>\n",
              "      <td>1</td>\n",
              "      <td>0</td>\n",
              "      <td>0</td>\n",
              "      <td>0</td>\n",
              "      <td>0</td>\n",
              "      <td>0</td>\n",
              "      <td>6</td>\n",
              "    </tr>\n",
              "    <tr>\n",
              "      <th>1</th>\n",
              "      <td>41</td>\n",
              "      <td>0</td>\n",
              "      <td>2</td>\n",
              "      <td>0</td>\n",
              "      <td>1</td>\n",
              "      <td>1</td>\n",
              "      <td>0</td>\n",
              "      <td>0</td>\n",
              "      <td>0</td>\n",
              "      <td>0</td>\n",
              "      <td>2</td>\n",
              "    </tr>\n",
              "    <tr>\n",
              "      <th>2</th>\n",
              "      <td>40</td>\n",
              "      <td>1</td>\n",
              "      <td>4</td>\n",
              "      <td>0</td>\n",
              "      <td>1</td>\n",
              "      <td>0</td>\n",
              "      <td>0</td>\n",
              "      <td>0</td>\n",
              "      <td>0</td>\n",
              "      <td>0</td>\n",
              "      <td>5</td>\n",
              "    </tr>\n",
              "    <tr>\n",
              "      <th>3</th>\n",
              "      <td>33</td>\n",
              "      <td>0</td>\n",
              "      <td>3</td>\n",
              "      <td>0</td>\n",
              "      <td>1</td>\n",
              "      <td>1</td>\n",
              "      <td>0</td>\n",
              "      <td>0</td>\n",
              "      <td>0</td>\n",
              "      <td>0</td>\n",
              "      <td>5</td>\n",
              "    </tr>\n",
              "    <tr>\n",
              "      <th>4</th>\n",
              "      <td>41</td>\n",
              "      <td>0</td>\n",
              "      <td>2</td>\n",
              "      <td>0</td>\n",
              "      <td>0</td>\n",
              "      <td>1</td>\n",
              "      <td>1</td>\n",
              "      <td>0</td>\n",
              "      <td>1</td>\n",
              "      <td>1</td>\n",
              "      <td>0</td>\n",
              "    </tr>\n",
              "  </tbody>\n",
              "</table>\n",
              "</div>\n",
              "    <div class=\"colab-df-buttons\">\n",
              "\n",
              "  <div class=\"colab-df-container\">\n",
              "    <button class=\"colab-df-convert\" onclick=\"convertToInteractive('df-602cc124-47cb-4404-98d0-2e4a4a4eb0f9')\"\n",
              "            title=\"Convert this dataframe to an interactive table.\"\n",
              "            style=\"display:none;\">\n",
              "\n",
              "  <svg xmlns=\"http://www.w3.org/2000/svg\" height=\"24px\" viewBox=\"0 -960 960 960\">\n",
              "    <path d=\"M120-120v-720h720v720H120Zm60-500h600v-160H180v160Zm220 220h160v-160H400v160Zm0 220h160v-160H400v160ZM180-400h160v-160H180v160Zm440 0h160v-160H620v160ZM180-180h160v-160H180v160Zm440 0h160v-160H620v160Z\"/>\n",
              "  </svg>\n",
              "    </button>\n",
              "\n",
              "  <style>\n",
              "    .colab-df-container {\n",
              "      display:flex;\n",
              "      gap: 12px;\n",
              "    }\n",
              "\n",
              "    .colab-df-convert {\n",
              "      background-color: #E8F0FE;\n",
              "      border: none;\n",
              "      border-radius: 50%;\n",
              "      cursor: pointer;\n",
              "      display: none;\n",
              "      fill: #1967D2;\n",
              "      height: 32px;\n",
              "      padding: 0 0 0 0;\n",
              "      width: 32px;\n",
              "    }\n",
              "\n",
              "    .colab-df-convert:hover {\n",
              "      background-color: #E2EBFA;\n",
              "      box-shadow: 0px 1px 2px rgba(60, 64, 67, 0.3), 0px 1px 3px 1px rgba(60, 64, 67, 0.15);\n",
              "      fill: #174EA6;\n",
              "    }\n",
              "\n",
              "    .colab-df-buttons div {\n",
              "      margin-bottom: 4px;\n",
              "    }\n",
              "\n",
              "    [theme=dark] .colab-df-convert {\n",
              "      background-color: #3B4455;\n",
              "      fill: #D2E3FC;\n",
              "    }\n",
              "\n",
              "    [theme=dark] .colab-df-convert:hover {\n",
              "      background-color: #434B5C;\n",
              "      box-shadow: 0px 1px 3px 1px rgba(0, 0, 0, 0.15);\n",
              "      filter: drop-shadow(0px 1px 2px rgba(0, 0, 0, 0.3));\n",
              "      fill: #FFFFFF;\n",
              "    }\n",
              "  </style>\n",
              "\n",
              "    <script>\n",
              "      const buttonEl =\n",
              "        document.querySelector('#df-602cc124-47cb-4404-98d0-2e4a4a4eb0f9 button.colab-df-convert');\n",
              "      buttonEl.style.display =\n",
              "        google.colab.kernel.accessAllowed ? 'block' : 'none';\n",
              "\n",
              "      async function convertToInteractive(key) {\n",
              "        const element = document.querySelector('#df-602cc124-47cb-4404-98d0-2e4a4a4eb0f9');\n",
              "        const dataTable =\n",
              "          await google.colab.kernel.invokeFunction('convertToInteractive',\n",
              "                                                    [key], {});\n",
              "        if (!dataTable) return;\n",
              "\n",
              "        const docLinkHtml = 'Like what you see? Visit the ' +\n",
              "          '<a target=\"_blank\" href=https://colab.research.google.com/notebooks/data_table.ipynb>data table notebook</a>'\n",
              "          + ' to learn more about interactive tables.';\n",
              "        element.innerHTML = '';\n",
              "        dataTable['output_type'] = 'display_data';\n",
              "        await google.colab.output.renderOutput(dataTable, element);\n",
              "        const docLink = document.createElement('div');\n",
              "        docLink.innerHTML = docLinkHtml;\n",
              "        element.appendChild(docLink);\n",
              "      }\n",
              "    </script>\n",
              "  </div>\n",
              "\n",
              "\n",
              "<div id=\"df-3d868b3c-4c9c-43ec-8300-0b7b21ddcfb6\">\n",
              "  <button class=\"colab-df-quickchart\" onclick=\"quickchart('df-3d868b3c-4c9c-43ec-8300-0b7b21ddcfb6')\"\n",
              "            title=\"Suggest charts.\"\n",
              "            style=\"display:none;\">\n",
              "\n",
              "<svg xmlns=\"http://www.w3.org/2000/svg\" height=\"24px\"viewBox=\"0 0 24 24\"\n",
              "     width=\"24px\">\n",
              "    <g>\n",
              "        <path d=\"M19 3H5c-1.1 0-2 .9-2 2v14c0 1.1.9 2 2 2h14c1.1 0 2-.9 2-2V5c0-1.1-.9-2-2-2zM9 17H7v-7h2v7zm4 0h-2V7h2v10zm4 0h-2v-4h2v4z\"/>\n",
              "    </g>\n",
              "</svg>\n",
              "  </button>\n",
              "\n",
              "<style>\n",
              "  .colab-df-quickchart {\n",
              "      --bg-color: #E8F0FE;\n",
              "      --fill-color: #1967D2;\n",
              "      --hover-bg-color: #E2EBFA;\n",
              "      --hover-fill-color: #174EA6;\n",
              "      --disabled-fill-color: #AAA;\n",
              "      --disabled-bg-color: #DDD;\n",
              "  }\n",
              "\n",
              "  [theme=dark] .colab-df-quickchart {\n",
              "      --bg-color: #3B4455;\n",
              "      --fill-color: #D2E3FC;\n",
              "      --hover-bg-color: #434B5C;\n",
              "      --hover-fill-color: #FFFFFF;\n",
              "      --disabled-bg-color: #3B4455;\n",
              "      --disabled-fill-color: #666;\n",
              "  }\n",
              "\n",
              "  .colab-df-quickchart {\n",
              "    background-color: var(--bg-color);\n",
              "    border: none;\n",
              "    border-radius: 50%;\n",
              "    cursor: pointer;\n",
              "    display: none;\n",
              "    fill: var(--fill-color);\n",
              "    height: 32px;\n",
              "    padding: 0;\n",
              "    width: 32px;\n",
              "  }\n",
              "\n",
              "  .colab-df-quickchart:hover {\n",
              "    background-color: var(--hover-bg-color);\n",
              "    box-shadow: 0 1px 2px rgba(60, 64, 67, 0.3), 0 1px 3px 1px rgba(60, 64, 67, 0.15);\n",
              "    fill: var(--button-hover-fill-color);\n",
              "  }\n",
              "\n",
              "  .colab-df-quickchart-complete:disabled,\n",
              "  .colab-df-quickchart-complete:disabled:hover {\n",
              "    background-color: var(--disabled-bg-color);\n",
              "    fill: var(--disabled-fill-color);\n",
              "    box-shadow: none;\n",
              "  }\n",
              "\n",
              "  .colab-df-spinner {\n",
              "    border: 2px solid var(--fill-color);\n",
              "    border-color: transparent;\n",
              "    border-bottom-color: var(--fill-color);\n",
              "    animation:\n",
              "      spin 1s steps(1) infinite;\n",
              "  }\n",
              "\n",
              "  @keyframes spin {\n",
              "    0% {\n",
              "      border-color: transparent;\n",
              "      border-bottom-color: var(--fill-color);\n",
              "      border-left-color: var(--fill-color);\n",
              "    }\n",
              "    20% {\n",
              "      border-color: transparent;\n",
              "      border-left-color: var(--fill-color);\n",
              "      border-top-color: var(--fill-color);\n",
              "    }\n",
              "    30% {\n",
              "      border-color: transparent;\n",
              "      border-left-color: var(--fill-color);\n",
              "      border-top-color: var(--fill-color);\n",
              "      border-right-color: var(--fill-color);\n",
              "    }\n",
              "    40% {\n",
              "      border-color: transparent;\n",
              "      border-right-color: var(--fill-color);\n",
              "      border-top-color: var(--fill-color);\n",
              "    }\n",
              "    60% {\n",
              "      border-color: transparent;\n",
              "      border-right-color: var(--fill-color);\n",
              "    }\n",
              "    80% {\n",
              "      border-color: transparent;\n",
              "      border-right-color: var(--fill-color);\n",
              "      border-bottom-color: var(--fill-color);\n",
              "    }\n",
              "    90% {\n",
              "      border-color: transparent;\n",
              "      border-bottom-color: var(--fill-color);\n",
              "    }\n",
              "  }\n",
              "</style>\n",
              "\n",
              "  <script>\n",
              "    async function quickchart(key) {\n",
              "      const quickchartButtonEl =\n",
              "        document.querySelector('#' + key + ' button');\n",
              "      quickchartButtonEl.disabled = true;  // To prevent multiple clicks.\n",
              "      quickchartButtonEl.classList.add('colab-df-spinner');\n",
              "      try {\n",
              "        const charts = await google.colab.kernel.invokeFunction(\n",
              "            'suggestCharts', [key], {});\n",
              "      } catch (error) {\n",
              "        console.error('Error during call to suggestCharts:', error);\n",
              "      }\n",
              "      quickchartButtonEl.classList.remove('colab-df-spinner');\n",
              "      quickchartButtonEl.classList.add('colab-df-quickchart-complete');\n",
              "    }\n",
              "    (() => {\n",
              "      let quickchartButtonEl =\n",
              "        document.querySelector('#df-3d868b3c-4c9c-43ec-8300-0b7b21ddcfb6 button');\n",
              "      quickchartButtonEl.style.display =\n",
              "        google.colab.kernel.accessAllowed ? 'block' : 'none';\n",
              "    })();\n",
              "  </script>\n",
              "</div>\n",
              "    </div>\n",
              "  </div>\n"
            ]
          },
          "metadata": {},
          "execution_count": 50
        }
      ]
    },
    {
      "cell_type": "markdown",
      "source": [
        "Generación de los datasets de entrenamiento y testing"
      ],
      "metadata": {
        "id": "VmrnWzas4vFQ"
      }
    },
    {
      "cell_type": "code",
      "source": [
        "from sklearn.model_selection import train_test_split\n",
        "\n",
        "# Se reparten los datos disponibles en conjuntos para entrenamiento y testeo\n",
        "\n",
        "train_data, test_data, train_labels, test_labels = train_test_split(features, labels)\n",
        "\n",
        "# Toma por defecto 75% (entrenamiento) - 25% (testeo)\n",
        "# Se podría modificar con el parámetro test_size = 0.## y el complemento para training\n"
      ],
      "metadata": {
        "id": "JKcXYxEV5MiM"
      },
      "execution_count": null,
      "outputs": []
    },
    {
      "cell_type": "code",
      "source": [
        "# Vista de los datos de entrenamiento para una fila\n",
        "\n",
        "print(f\"Un registro de entrenamiento: \\n{train_data.iloc[0]}\")\n",
        "print(\"-\"*50)\n",
        "print(f\"Label del registro: \\n{train_labels[0]}\")"
      ],
      "metadata": {
        "colab": {
          "base_uri": "https://localhost:8080/"
        },
        "id": "dCZtoFoUbF-X",
        "outputId": "7897bb3d-d3ac-433e-99ab-aed6851f2179"
      },
      "execution_count": null,
      "outputs": [
        {
          "output_type": "stream",
          "name": "stdout",
          "text": [
            "Un registro de entrenamiento: \n",
            "semana           1\n",
            "sexo_            0\n",
            "Ciclo_de_vida    4\n",
            "dolrretroo       0\n",
            "malgias          1\n",
            "artralgia        0\n",
            "dolor_abdo       0\n",
            "vomito           0\n",
            "pac_hos_         0\n",
            "conducta         0\n",
            "dias_sint        3\n",
            "Name: 1436, dtype: int64\n",
            "--------------------------------------------------\n",
            "Label del registro: \n",
            "0\n"
          ]
        }
      ]
    },
    {
      "cell_type": "code",
      "source": [
        "#Importaciones varias para la evaluación\n",
        "\n",
        "from sklearn.metrics import confusion_matrix,accuracy_score,classification_report\n",
        "from sklearn.metrics import confusion_matrix, ConfusionMatrixDisplay\n",
        "import matplotlib.pyplot as plt\n",
        "\n",
        "# Configuración de la evaluación\n",
        "\n",
        "def evaluar_modelo(modelo, test_data, test_labels):\n",
        "    prediction = modelo.predict(test_data)\n",
        "    print('Rendimiento obtenido:',accuracy_score(test_labels,prediction))\n",
        "    print('Reporte de indicadores:\\n',classification_report(test_labels,prediction))\n",
        "    print('Matriz de confusión:')\n",
        "    cm = confusion_matrix(test_labels, prediction, labels=clf.classes_)\n",
        "    disp = ConfusionMatrixDisplay(confusion_matrix=cm,\n",
        "                                   display_labels=clf.classes_)\n",
        "    disp.plot()\n",
        "    plt.show()\n"
      ],
      "metadata": {
        "id": "rr5LlNHq-bTu"
      },
      "execution_count": null,
      "outputs": []
    },
    {
      "cell_type": "markdown",
      "source": [
        "ZeroR"
      ],
      "metadata": {
        "id": "OKuRraTneLRb"
      }
    },
    {
      "cell_type": "code",
      "source": [
        "from sklearn.dummy import DummyClassifier\n",
        "\n",
        "clf = DummyClassifier()\n",
        "clf.fit(train_data, train_labels)\n",
        "\n",
        "prediction = clf.predict(test_data)\n",
        "print('Rendimiento obtenido:',accuracy_score(test_labels, prediction))\n",
        "print('Vista de una muestra de valores de predicción y datos de testeo:')\n",
        "print(prediction[:10])\n",
        "print(test_labels[:10])\n"
      ],
      "metadata": {
        "id": "Uz7o9Z-c_F_8",
        "outputId": "b57ec616-0301-4ab2-9950-eda97e3919c2",
        "colab": {
          "base_uri": "https://localhost:8080/"
        }
      },
      "execution_count": null,
      "outputs": [
        {
          "output_type": "stream",
          "name": "stdout",
          "text": [
            "Rendimiento obtenido: 0.49899799599198397\n",
            "Vista de una muestra de valores de predicción y datos de testeo:\n",
            "[0 0 0 0 0 0 0 0 0 0]\n",
            "1552    0\n",
            "786     1\n",
            "511     0\n",
            "1284    1\n",
            "90      0\n",
            "279     1\n",
            "1619    1\n",
            "1820    1\n",
            "1047    0\n",
            "1380    1\n",
            "Name: clasfinal, dtype: int64\n"
          ]
        }
      ]
    },
    {
      "cell_type": "code",
      "source": [
        "# Para obtener todos los parámetros y no solo los modificados\n",
        "\n",
        "from sklearn import set_config\n",
        "\n",
        "set_config(print_changed_only=False)"
      ],
      "metadata": {
        "id": "a1Xzvehx_vkR"
      },
      "execution_count": null,
      "outputs": []
    },
    {
      "cell_type": "markdown",
      "source": [
        "Regresión Logística"
      ],
      "metadata": {
        "id": "7J9ZklHqeWBQ"
      }
    },
    {
      "cell_type": "code",
      "source": [
        "from sklearn.linear_model import LogisticRegression\n",
        "\n",
        "# Prueba Nro.1\n",
        "#lreg = LogisticRegression(solver = 'liblinear')\n",
        "# Prueba Nro2\n",
        "lreg = LogisticRegression(C=1.0, solver='lbfgs', max_iter=1000)\n",
        "\n",
        "\n",
        "lreg.fit(train_data, train_labels)\n"
      ],
      "metadata": {
        "id": "yu9n0_p4_5IZ",
        "outputId": "c1400eaa-e802-4a1d-cc26-5e493d3a7950",
        "colab": {
          "base_uri": "https://localhost:8080/",
          "height": 144
        }
      },
      "execution_count": null,
      "outputs": [
        {
          "output_type": "execute_result",
          "data": {
            "text/plain": [
              "LogisticRegression(C=1.0, class_weight=None, dual=False, fit_intercept=True,\n",
              "                   intercept_scaling=1, l1_ratio=None, max_iter=1000,\n",
              "                   multi_class='auto', n_jobs=None, penalty='l2',\n",
              "                   random_state=None, solver='lbfgs', tol=0.0001, verbose=0,\n",
              "                   warm_start=False)"
            ],
            "text/html": [
              "<style>#sk-container-id-4 {color: black;background-color: white;}#sk-container-id-4 pre{padding: 0;}#sk-container-id-4 div.sk-toggleable {background-color: white;}#sk-container-id-4 label.sk-toggleable__label {cursor: pointer;display: block;width: 100%;margin-bottom: 0;padding: 0.3em;box-sizing: border-box;text-align: center;}#sk-container-id-4 label.sk-toggleable__label-arrow:before {content: \"▸\";float: left;margin-right: 0.25em;color: #696969;}#sk-container-id-4 label.sk-toggleable__label-arrow:hover:before {color: black;}#sk-container-id-4 div.sk-estimator:hover label.sk-toggleable__label-arrow:before {color: black;}#sk-container-id-4 div.sk-toggleable__content {max-height: 0;max-width: 0;overflow: hidden;text-align: left;background-color: #f0f8ff;}#sk-container-id-4 div.sk-toggleable__content pre {margin: 0.2em;color: black;border-radius: 0.25em;background-color: #f0f8ff;}#sk-container-id-4 input.sk-toggleable__control:checked~div.sk-toggleable__content {max-height: 200px;max-width: 100%;overflow: auto;}#sk-container-id-4 input.sk-toggleable__control:checked~label.sk-toggleable__label-arrow:before {content: \"▾\";}#sk-container-id-4 div.sk-estimator input.sk-toggleable__control:checked~label.sk-toggleable__label {background-color: #d4ebff;}#sk-container-id-4 div.sk-label input.sk-toggleable__control:checked~label.sk-toggleable__label {background-color: #d4ebff;}#sk-container-id-4 input.sk-hidden--visually {border: 0;clip: rect(1px 1px 1px 1px);clip: rect(1px, 1px, 1px, 1px);height: 1px;margin: -1px;overflow: hidden;padding: 0;position: absolute;width: 1px;}#sk-container-id-4 div.sk-estimator {font-family: monospace;background-color: #f0f8ff;border: 1px dotted black;border-radius: 0.25em;box-sizing: border-box;margin-bottom: 0.5em;}#sk-container-id-4 div.sk-estimator:hover {background-color: #d4ebff;}#sk-container-id-4 div.sk-parallel-item::after {content: \"\";width: 100%;border-bottom: 1px solid gray;flex-grow: 1;}#sk-container-id-4 div.sk-label:hover label.sk-toggleable__label {background-color: #d4ebff;}#sk-container-id-4 div.sk-serial::before {content: \"\";position: absolute;border-left: 1px solid gray;box-sizing: border-box;top: 0;bottom: 0;left: 50%;z-index: 0;}#sk-container-id-4 div.sk-serial {display: flex;flex-direction: column;align-items: center;background-color: white;padding-right: 0.2em;padding-left: 0.2em;position: relative;}#sk-container-id-4 div.sk-item {position: relative;z-index: 1;}#sk-container-id-4 div.sk-parallel {display: flex;align-items: stretch;justify-content: center;background-color: white;position: relative;}#sk-container-id-4 div.sk-item::before, #sk-container-id-4 div.sk-parallel-item::before {content: \"\";position: absolute;border-left: 1px solid gray;box-sizing: border-box;top: 0;bottom: 0;left: 50%;z-index: -1;}#sk-container-id-4 div.sk-parallel-item {display: flex;flex-direction: column;z-index: 1;position: relative;background-color: white;}#sk-container-id-4 div.sk-parallel-item:first-child::after {align-self: flex-end;width: 50%;}#sk-container-id-4 div.sk-parallel-item:last-child::after {align-self: flex-start;width: 50%;}#sk-container-id-4 div.sk-parallel-item:only-child::after {width: 0;}#sk-container-id-4 div.sk-dashed-wrapped {border: 1px dashed gray;margin: 0 0.4em 0.5em 0.4em;box-sizing: border-box;padding-bottom: 0.4em;background-color: white;}#sk-container-id-4 div.sk-label label {font-family: monospace;font-weight: bold;display: inline-block;line-height: 1.2em;}#sk-container-id-4 div.sk-label-container {text-align: center;}#sk-container-id-4 div.sk-container {/* jupyter's `normalize.less` sets `[hidden] { display: none; }` but bootstrap.min.css set `[hidden] { display: none !important; }` so we also need the `!important` here to be able to override the default hidden behavior on the sphinx rendered scikit-learn.org. See: https://github.com/scikit-learn/scikit-learn/issues/21755 */display: inline-block !important;position: relative;}#sk-container-id-4 div.sk-text-repr-fallback {display: none;}</style><div id=\"sk-container-id-4\" class=\"sk-top-container\"><div class=\"sk-text-repr-fallback\"><pre>LogisticRegression(C=1.0, class_weight=None, dual=False, fit_intercept=True,\n",
              "                   intercept_scaling=1, l1_ratio=None, max_iter=1000,\n",
              "                   multi_class=&#x27;auto&#x27;, n_jobs=None, penalty=&#x27;l2&#x27;,\n",
              "                   random_state=None, solver=&#x27;lbfgs&#x27;, tol=0.0001, verbose=0,\n",
              "                   warm_start=False)</pre><b>In a Jupyter environment, please rerun this cell to show the HTML representation or trust the notebook. <br />On GitHub, the HTML representation is unable to render, please try loading this page with nbviewer.org.</b></div><div class=\"sk-container\" hidden><div class=\"sk-item\"><div class=\"sk-estimator sk-toggleable\"><input class=\"sk-toggleable__control sk-hidden--visually\" id=\"sk-estimator-id-4\" type=\"checkbox\" checked><label for=\"sk-estimator-id-4\" class=\"sk-toggleable__label sk-toggleable__label-arrow\">LogisticRegression</label><div class=\"sk-toggleable__content\"><pre>LogisticRegression(C=1.0, class_weight=None, dual=False, fit_intercept=True,\n",
              "                   intercept_scaling=1, l1_ratio=None, max_iter=1000,\n",
              "                   multi_class=&#x27;auto&#x27;, n_jobs=None, penalty=&#x27;l2&#x27;,\n",
              "                   random_state=None, solver=&#x27;lbfgs&#x27;, tol=0.0001, verbose=0,\n",
              "                   warm_start=False)</pre></div></div></div></div></div>"
            ]
          },
          "metadata": {},
          "execution_count": 65
        }
      ]
    },
    {
      "cell_type": "code",
      "source": [
        "#Prueba Nro. 1\n",
        "evaluar_modelo(lreg, test_data, test_labels)\n"
      ],
      "metadata": {
        "id": "ZnngES-LAP72",
        "outputId": "ff5f6863-e79f-4616-efc4-03c79f666dc1",
        "colab": {
          "base_uri": "https://localhost:8080/",
          "height": 661
        }
      },
      "execution_count": null,
      "outputs": [
        {
          "output_type": "stream",
          "name": "stdout",
          "text": [
            "Rendimiento obtenido: 0.9038076152304609\n",
            "Reporte de indicadores:\n",
            "               precision    recall  f1-score   support\n",
            "\n",
            "           0       0.90      0.90      0.90       249\n",
            "           1       0.90      0.90      0.90       250\n",
            "\n",
            "    accuracy                           0.90       499\n",
            "   macro avg       0.90      0.90      0.90       499\n",
            "weighted avg       0.90      0.90      0.90       499\n",
            "\n",
            "Matriz de confusión:\n"
          ]
        },
        {
          "output_type": "display_data",
          "data": {
            "text/plain": [
              "<Figure size 640x480 with 2 Axes>"
            ],
            "image/png": "[encoded data removed]"
          },
          "metadata": {}
        }
      ]
    },
    {
      "cell_type": "markdown",
      "source": [
        "#KNN"
      ],
      "metadata": {
        "id": "LVOc9AOce0FS"
      }
    },
    {
      "cell_type": "code",
      "source": [
        "from sklearn.neighbors import KNeighborsClassifier\n",
        "\n",
        "# Prueba nro. 1\n",
        "#knn = KNeighborsClassifier(n_neighbors=50, algorithm = 'ball_tree', leaf_size = 25)\n",
        "#Prueba 2\n",
        "# Ajustar los parámetros del clasificador\n",
        "knn = KNeighborsClassifier(n_neighbors=10, algorithm='kd_tree', leaf_size=30)\n",
        "\n",
        "knn.fit(train_data, train_labels)"
      ],
      "metadata": {
        "colab": {
          "base_uri": "https://localhost:8080/",
          "height": 109
        },
        "id": "lQkL1y53fG0k",
        "outputId": "131249ae-871a-410e-ae44-60b5b6749faf"
      },
      "execution_count": null,
      "outputs": [
        {
          "output_type": "execute_result",
          "data": {
            "text/plain": [
              "KNeighborsClassifier(algorithm='kd_tree', leaf_size=30, metric='minkowski',\n",
              "                     metric_params=None, n_jobs=None, n_neighbors=10, p=2,\n",
              "                     weights='uniform')"
            ],
            "text/html": [
              "<style>#sk-container-id-7 {color: black;background-color: white;}#sk-container-id-7 pre{padding: 0;}#sk-container-id-7 div.sk-toggleable {background-color: white;}#sk-container-id-7 label.sk-toggleable__label {cursor: pointer;display: block;width: 100%;margin-bottom: 0;padding: 0.3em;box-sizing: border-box;text-align: center;}#sk-container-id-7 label.sk-toggleable__label-arrow:before {content: \"▸\";float: left;margin-right: 0.25em;color: #696969;}#sk-container-id-7 label.sk-toggleable__label-arrow:hover:before {color: black;}#sk-container-id-7 div.sk-estimator:hover label.sk-toggleable__label-arrow:before {color: black;}#sk-container-id-7 div.sk-toggleable__content {max-height: 0;max-width: 0;overflow: hidden;text-align: left;background-color: #f0f8ff;}#sk-container-id-7 div.sk-toggleable__content pre {margin: 0.2em;color: black;border-radius: 0.25em;background-color: #f0f8ff;}#sk-container-id-7 input.sk-toggleable__control:checked~div.sk-toggleable__content {max-height: 200px;max-width: 100%;overflow: auto;}#sk-container-id-7 input.sk-toggleable__control:checked~label.sk-toggleable__label-arrow:before {content: \"▾\";}#sk-container-id-7 div.sk-estimator input.sk-toggleable__control:checked~label.sk-toggleable__label {background-color: #d4ebff;}#sk-container-id-7 div.sk-label input.sk-toggleable__control:checked~label.sk-toggleable__label {background-color: #d4ebff;}#sk-container-id-7 input.sk-hidden--visually {border: 0;clip: rect(1px 1px 1px 1px);clip: rect(1px, 1px, 1px, 1px);height: 1px;margin: -1px;overflow: hidden;padding: 0;position: absolute;width: 1px;}#sk-container-id-7 div.sk-estimator {font-family: monospace;background-color: #f0f8ff;border: 1px dotted black;border-radius: 0.25em;box-sizing: border-box;margin-bottom: 0.5em;}#sk-container-id-7 div.sk-estimator:hover {background-color: #d4ebff;}#sk-container-id-7 div.sk-parallel-item::after {content: \"\";width: 100%;border-bottom: 1px solid gray;flex-grow: 1;}#sk-container-id-7 div.sk-label:hover label.sk-toggleable__label {background-color: #d4ebff;}#sk-container-id-7 div.sk-serial::before {content: \"\";position: absolute;border-left: 1px solid gray;box-sizing: border-box;top: 0;bottom: 0;left: 50%;z-index: 0;}#sk-container-id-7 div.sk-serial {display: flex;flex-direction: column;align-items: center;background-color: white;padding-right: 0.2em;padding-left: 0.2em;position: relative;}#sk-container-id-7 div.sk-item {position: relative;z-index: 1;}#sk-container-id-7 div.sk-parallel {display: flex;align-items: stretch;justify-content: center;background-color: white;position: relative;}#sk-container-id-7 div.sk-item::before, #sk-container-id-7 div.sk-parallel-item::before {content: \"\";position: absolute;border-left: 1px solid gray;box-sizing: border-box;top: 0;bottom: 0;left: 50%;z-index: -1;}#sk-container-id-7 div.sk-parallel-item {display: flex;flex-direction: column;z-index: 1;position: relative;background-color: white;}#sk-container-id-7 div.sk-parallel-item:first-child::after {align-self: flex-end;width: 50%;}#sk-container-id-7 div.sk-parallel-item:last-child::after {align-self: flex-start;width: 50%;}#sk-container-id-7 div.sk-parallel-item:only-child::after {width: 0;}#sk-container-id-7 div.sk-dashed-wrapped {border: 1px dashed gray;margin: 0 0.4em 0.5em 0.4em;box-sizing: border-box;padding-bottom: 0.4em;background-color: white;}#sk-container-id-7 div.sk-label label {font-family: monospace;font-weight: bold;display: inline-block;line-height: 1.2em;}#sk-container-id-7 div.sk-label-container {text-align: center;}#sk-container-id-7 div.sk-container {/* jupyter's `normalize.less` sets `[hidden] { display: none; }` but bootstrap.min.css set `[hidden] { display: none !important; }` so we also need the `!important` here to be able to override the default hidden behavior on the sphinx rendered scikit-learn.org. See: https://github.com/scikit-learn/scikit-learn/issues/21755 */display: inline-block !important;position: relative;}#sk-container-id-7 div.sk-text-repr-fallback {display: none;}</style><div id=\"sk-container-id-7\" class=\"sk-top-container\"><div class=\"sk-text-repr-fallback\"><pre>KNeighborsClassifier(algorithm=&#x27;kd_tree&#x27;, leaf_size=30, metric=&#x27;minkowski&#x27;,\n",
              "                     metric_params=None, n_jobs=None, n_neighbors=10, p=2,\n",
              "                     weights=&#x27;uniform&#x27;)</pre><b>In a Jupyter environment, please rerun this cell to show the HTML representation or trust the notebook. <br />On GitHub, the HTML representation is unable to render, please try loading this page with nbviewer.org.</b></div><div class=\"sk-container\" hidden><div class=\"sk-item\"><div class=\"sk-estimator sk-toggleable\"><input class=\"sk-toggleable__control sk-hidden--visually\" id=\"sk-estimator-id-7\" type=\"checkbox\" checked><label for=\"sk-estimator-id-7\" class=\"sk-toggleable__label sk-toggleable__label-arrow\">KNeighborsClassifier</label><div class=\"sk-toggleable__content\"><pre>KNeighborsClassifier(algorithm=&#x27;kd_tree&#x27;, leaf_size=30, metric=&#x27;minkowski&#x27;,\n",
              "                     metric_params=None, n_jobs=None, n_neighbors=10, p=2,\n",
              "                     weights=&#x27;uniform&#x27;)</pre></div></div></div></div></div>"
            ]
          },
          "metadata": {},
          "execution_count": 71
        }
      ]
    },
    {
      "cell_type": "code",
      "source": [
        "#Prueba Nro. 1\n",
        "evaluar_modelo(knn, test_data, test_labels)"
      ],
      "metadata": {
        "colab": {
          "base_uri": "https://localhost:8080/",
          "height": 663
        },
        "id": "NLEY271TfLRK",
        "outputId": "13ffd0a4-ecd0-4476-935a-64f33006d5cb"
      },
      "execution_count": null,
      "outputs": [
        {
          "output_type": "stream",
          "name": "stdout",
          "text": [
            "Rendimiento obtenido: 0.7414829659318637\n",
            "Reporte de indicadores:\n",
            "               precision    recall  f1-score   support\n",
            "\n",
            "           0       0.71      0.80      0.76       249\n",
            "           1       0.78      0.68      0.72       250\n",
            "\n",
            "    accuracy                           0.74       499\n",
            "   macro avg       0.75      0.74      0.74       499\n",
            "weighted avg       0.75      0.74      0.74       499\n",
            "\n",
            "Matriz de confusión:\n"
          ]
        },
        {
          "output_type": "display_data",
          "data": {
            "text/plain": [
              "<Figure size 640x480 with 2 Axes>"
            ],
            "image/png": "[encoded data removed]"
          },
          "metadata": {}
        }
      ]
    },
    {
      "cell_type": "code",
      "source": [
        "from sklearn.neighbors import KNeighborsClassifier\n",
        "from sklearn.preprocessing import StandardScaler\n",
        "from sklearn.model_selection import cross_val_score\n",
        "\n",
        "# Preprocesar los datos (opcional)\n",
        "scaler = StandardScaler()\n",
        "train_data_scaled = scaler.fit_transform(train_data)\n",
        "\n",
        "# Ajustar los parámetros del clasificador\n",
        "knn = KNeighborsClassifier(n_neighbors=10, algorithm='kd_tree', leaf_size=30)\n",
        "\n",
        "# Realizar validación cruzada\n",
        "scores = cross_val_score(knn, train_data_scaled, train_labels, cv=5)\n",
        "\n",
        "# Entrenar el clasificador\n",
        "knn.fit(train_data_scaled, train_labels)\n",
        "\n",
        "# Evaluar el rendimiento\n",
        "mean_accuracy = scores.mean()\n",
        "print(\"Precisión promedio en validación cruzada:\", mean_accuracy)\n",
        "\n",
        "# Utilizar el clasificador entrenado para hacer predicciones en nuevos datos\n",
        "test_data_scaled = scaler.transform(test_data)\n",
        "predictions = knn.predict(test_data_scaled)"
      ],
      "metadata": {
        "colab": {
          "base_uri": "https://localhost:8080/"
        },
        "id": "EBt3wJEvfAYD",
        "outputId": "8f7c0777-de89-485c-b700-9be3617108bd"
      },
      "execution_count": null,
      "outputs": [
        {
          "output_type": "stream",
          "name": "stdout",
          "text": [
            "Precisión promedio en validación cruzada: 0.8869565217391304\n"
          ]
        }
      ]
    },
    {
      "cell_type": "code",
      "source": [
        "# Prueba nro. 1\n",
        "evaluar_modelo(knn, test_data, test_labels)"
      ],
      "metadata": {
        "colab": {
          "base_uri": "https://localhost:8080/",
          "height": 663
        },
        "id": "BNqelcZhfUT5",
        "outputId": "da64ec3b-8c3c-4bce-9101-9a0725117ad9"
      },
      "execution_count": null,
      "outputs": [
        {
          "output_type": "stream",
          "name": "stdout",
          "text": [
            "Rendimiento obtenido: 0.7414829659318637\n",
            "Reporte de indicadores:\n",
            "               precision    recall  f1-score   support\n",
            "\n",
            "           0       0.71      0.80      0.76       249\n",
            "           1       0.78      0.68      0.72       250\n",
            "\n",
            "    accuracy                           0.74       499\n",
            "   macro avg       0.75      0.74      0.74       499\n",
            "weighted avg       0.75      0.74      0.74       499\n",
            "\n",
            "Matriz de confusión:\n"
          ]
        },
        {
          "output_type": "display_data",
          "data": {
            "text/plain": [
              "<Figure size 640x480 with 2 Axes>"
            ],
            "image/png": "[encoded data removed]"
          },
          "metadata": {}
        }
      ]
    },
    {
      "cell_type": "markdown",
      "source": [
        "#Árboles (TDIDT)"
      ],
      "metadata": {
        "id": "sU5PbLqEfdJ6"
      }
    },
    {
      "cell_type": "code",
      "source": [
        "from sklearn.neighbors import KNeighborsClassifier\n",
        "from sklearn.preprocessing import StandardScaler\n",
        "from sklearn.model_selection import cross_val_score\n",
        "\n",
        "# Preprocesar los datos (opcional)\n",
        "scaler = StandardScaler()\n",
        "train_data_scaled = scaler.fit_transform(train_data)\n",
        "\n",
        "# Ajustar los parámetros del clasificador\n",
        "knn = KNeighborsClassifier(n_neighbors=10, algorithm='kd_tree', leaf_size=30)\n",
        "\n",
        "# Realizar validación cruzada\n",
        "scores = cross_val_score(knn, train_data_scaled, train_labels, cv=5)\n",
        "\n",
        "# Entrenar el clasificador\n",
        "knn.fit(train_data_scaled, train_labels)\n",
        "\n",
        "# Evaluar el rendimiento\n",
        "mean_accuracy = scores.mean()\n",
        "print(\"Precisión promedio en validación cruzada:\", mean_accuracy)\n",
        "\n",
        "# Utilizar el clasificador entrenado para hacer predicciones en nuevos datos\n",
        "test_data_scaled = scaler.transform(test_data)\n",
        "predictions = knn.predict(test_data_scaled)\n"
      ],
      "metadata": {
        "colab": {
          "base_uri": "https://localhost:8080/"
        },
        "id": "fdWdjx-Dfg6o",
        "outputId": "bd85dd79-23f8-4bdc-9e5c-bb4bd29e572e"
      },
      "execution_count": null,
      "outputs": [
        {
          "output_type": "stream",
          "name": "stdout",
          "text": [
            "Precisión promedio en validación cruzada: 0.8869565217391304\n"
          ]
        }
      ]
    },
    {
      "cell_type": "code",
      "source": [
        "from sklearn.tree import DecisionTreeClassifier\n",
        "\n",
        "# Prueba Nro. 1\n",
        "dtc = DecisionTreeClassifier(max_depth=3, criterion='entropy', min_samples_split=10)\n",
        "\n",
        "dtc.fit(train_data, train_labels)"
      ],
      "metadata": {
        "colab": {
          "base_uri": "https://localhost:8080/",
          "height": 144
        },
        "id": "n684Q_LGflhX",
        "outputId": "cbc19aba-e6f2-4030-98a2-fb220ba174ce"
      },
      "execution_count": null,
      "outputs": [
        {
          "output_type": "execute_result",
          "data": {
            "text/plain": [
              "DecisionTreeClassifier(ccp_alpha=0.0, class_weight=None, criterion='entropy',\n",
              "                       max_depth=3, max_features=None, max_leaf_nodes=None,\n",
              "                       min_impurity_decrease=0.0, min_samples_leaf=1,\n",
              "                       min_samples_split=10, min_weight_fraction_leaf=0.0,\n",
              "                       random_state=None, splitter='best')"
            ],
            "text/html": [
              "<style>#sk-container-id-8 {color: black;background-color: white;}#sk-container-id-8 pre{padding: 0;}#sk-container-id-8 div.sk-toggleable {background-color: white;}#sk-container-id-8 label.sk-toggleable__label {cursor: pointer;display: block;width: 100%;margin-bottom: 0;padding: 0.3em;box-sizing: border-box;text-align: center;}#sk-container-id-8 label.sk-toggleable__label-arrow:before {content: \"▸\";float: left;margin-right: 0.25em;color: #696969;}#sk-container-id-8 label.sk-toggleable__label-arrow:hover:before {color: black;}#sk-container-id-8 div.sk-estimator:hover label.sk-toggleable__label-arrow:before {color: black;}#sk-container-id-8 div.sk-toggleable__content {max-height: 0;max-width: 0;overflow: hidden;text-align: left;background-color: #f0f8ff;}#sk-container-id-8 div.sk-toggleable__content pre {margin: 0.2em;color: black;border-radius: 0.25em;background-color: #f0f8ff;}#sk-container-id-8 input.sk-toggleable__control:checked~div.sk-toggleable__content {max-height: 200px;max-width: 100%;overflow: auto;}#sk-container-id-8 input.sk-toggleable__control:checked~label.sk-toggleable__label-arrow:before {content: \"▾\";}#sk-container-id-8 div.sk-estimator input.sk-toggleable__control:checked~label.sk-toggleable__label {background-color: #d4ebff;}#sk-container-id-8 div.sk-label input.sk-toggleable__control:checked~label.sk-toggleable__label {background-color: #d4ebff;}#sk-container-id-8 input.sk-hidden--visually {border: 0;clip: rect(1px 1px 1px 1px);clip: rect(1px, 1px, 1px, 1px);height: 1px;margin: -1px;overflow: hidden;padding: 0;position: absolute;width: 1px;}#sk-container-id-8 div.sk-estimator {font-family: monospace;background-color: #f0f8ff;border: 1px dotted black;border-radius: 0.25em;box-sizing: border-box;margin-bottom: 0.5em;}#sk-container-id-8 div.sk-estimator:hover {background-color: #d4ebff;}#sk-container-id-8 div.sk-parallel-item::after {content: \"\";width: 100%;border-bottom: 1px solid gray;flex-grow: 1;}#sk-container-id-8 div.sk-label:hover label.sk-toggleable__label {background-color: #d4ebff;}#sk-container-id-8 div.sk-serial::before {content: \"\";position: absolute;border-left: 1px solid gray;box-sizing: border-box;top: 0;bottom: 0;left: 50%;z-index: 0;}#sk-container-id-8 div.sk-serial {display: flex;flex-direction: column;align-items: center;background-color: white;padding-right: 0.2em;padding-left: 0.2em;position: relative;}#sk-container-id-8 div.sk-item {position: relative;z-index: 1;}#sk-container-id-8 div.sk-parallel {display: flex;align-items: stretch;justify-content: center;background-color: white;position: relative;}#sk-container-id-8 div.sk-item::before, #sk-container-id-8 div.sk-parallel-item::before {content: \"\";position: absolute;border-left: 1px solid gray;box-sizing: border-box;top: 0;bottom: 0;left: 50%;z-index: -1;}#sk-container-id-8 div.sk-parallel-item {display: flex;flex-direction: column;z-index: 1;position: relative;background-color: white;}#sk-container-id-8 div.sk-parallel-item:first-child::after {align-self: flex-end;width: 50%;}#sk-container-id-8 div.sk-parallel-item:last-child::after {align-self: flex-start;width: 50%;}#sk-container-id-8 div.sk-parallel-item:only-child::after {width: 0;}#sk-container-id-8 div.sk-dashed-wrapped {border: 1px dashed gray;margin: 0 0.4em 0.5em 0.4em;box-sizing: border-box;padding-bottom: 0.4em;background-color: white;}#sk-container-id-8 div.sk-label label {font-family: monospace;font-weight: bold;display: inline-block;line-height: 1.2em;}#sk-container-id-8 div.sk-label-container {text-align: center;}#sk-container-id-8 div.sk-container {/* jupyter's `normalize.less` sets `[hidden] { display: none; }` but bootstrap.min.css set `[hidden] { display: none !important; }` so we also need the `!important` here to be able to override the default hidden behavior on the sphinx rendered scikit-learn.org. See: https://github.com/scikit-learn/scikit-learn/issues/21755 */display: inline-block !important;position: relative;}#sk-container-id-8 div.sk-text-repr-fallback {display: none;}</style><div id=\"sk-container-id-8\" class=\"sk-top-container\"><div class=\"sk-text-repr-fallback\"><pre>DecisionTreeClassifier(ccp_alpha=0.0, class_weight=None, criterion=&#x27;entropy&#x27;,\n",
              "                       max_depth=3, max_features=None, max_leaf_nodes=None,\n",
              "                       min_impurity_decrease=0.0, min_samples_leaf=1,\n",
              "                       min_samples_split=10, min_weight_fraction_leaf=0.0,\n",
              "                       random_state=None, splitter=&#x27;best&#x27;)</pre><b>In a Jupyter environment, please rerun this cell to show the HTML representation or trust the notebook. <br />On GitHub, the HTML representation is unable to render, please try loading this page with nbviewer.org.</b></div><div class=\"sk-container\" hidden><div class=\"sk-item\"><div class=\"sk-estimator sk-toggleable\"><input class=\"sk-toggleable__control sk-hidden--visually\" id=\"sk-estimator-id-8\" type=\"checkbox\" checked><label for=\"sk-estimator-id-8\" class=\"sk-toggleable__label sk-toggleable__label-arrow\">DecisionTreeClassifier</label><div class=\"sk-toggleable__content\"><pre>DecisionTreeClassifier(ccp_alpha=0.0, class_weight=None, criterion=&#x27;entropy&#x27;,\n",
              "                       max_depth=3, max_features=None, max_leaf_nodes=None,\n",
              "                       min_impurity_decrease=0.0, min_samples_leaf=1,\n",
              "                       min_samples_split=10, min_weight_fraction_leaf=0.0,\n",
              "                       random_state=None, splitter=&#x27;best&#x27;)</pre></div></div></div></div></div>"
            ]
          },
          "metadata": {},
          "execution_count": 76
        }
      ]
    },
    {
      "cell_type": "code",
      "source": [
        "# Prueba Nro. 1\n",
        "evaluar_modelo(dtc, test_data, test_labels)"
      ],
      "metadata": {
        "colab": {
          "base_uri": "https://localhost:8080/",
          "height": 657
        },
        "id": "SqVa4077gA-A",
        "outputId": "d4b3a224-cd45-4386-933b-c97c91bff97f"
      },
      "execution_count": null,
      "outputs": [
        {
          "output_type": "stream",
          "name": "stdout",
          "text": [
            "Rendimiento obtenido: 0.9318637274549099\n",
            "Reporte de indicadores:\n",
            "               precision    recall  f1-score   support\n",
            "\n",
            "           0       0.95      0.91      0.93       249\n",
            "           1       0.91      0.96      0.93       250\n",
            "\n",
            "    accuracy                           0.93       499\n",
            "   macro avg       0.93      0.93      0.93       499\n",
            "weighted avg       0.93      0.93      0.93       499\n",
            "\n",
            "Matriz de confusión:\n"
          ]
        },
        {
          "output_type": "display_data",
          "data": {
            "text/plain": [
              "<Figure size 640x480 with 2 Axes>"
            ],
            "image/png": "[encoded data removed]"
          },
          "metadata": {}
        }
      ]
    },
    {
      "cell_type": "markdown",
      "source": [
        "#Métodos de ensamblado de modelos: RandomForest"
      ],
      "metadata": {
        "id": "NGTw74L3gsV_"
      }
    },
    {
      "cell_type": "code",
      "source": [
        "from sklearn.ensemble import RandomForestClassifier\n",
        "\n",
        "# Prueba nro. 1\n",
        "rndf = RandomForestClassifier(n_estimators=10)\n",
        "rndf.fit(train_data, train_labels)"
      ],
      "metadata": {
        "colab": {
          "base_uri": "https://localhost:8080/",
          "height": 179
        },
        "id": "ERoz3DiWgwPy",
        "outputId": "ed104c4f-1e8d-4f2a-87df-749af5abae25"
      },
      "execution_count": null,
      "outputs": [
        {
          "output_type": "execute_result",
          "data": {
            "text/plain": [
              "RandomForestClassifier(bootstrap=True, ccp_alpha=0.0, class_weight=None,\n",
              "                       criterion='gini', max_depth=None, max_features='sqrt',\n",
              "                       max_leaf_nodes=None, max_samples=None,\n",
              "                       min_impurity_decrease=0.0, min_samples_leaf=1,\n",
              "                       min_samples_split=2, min_weight_fraction_leaf=0.0,\n",
              "                       n_estimators=10, n_jobs=None, oob_score=False,\n",
              "                       random_state=None, verbose=0, warm_start=False)"
            ],
            "text/html": [
              "<style>#sk-container-id-12 {color: black;background-color: white;}#sk-container-id-12 pre{padding: 0;}#sk-container-id-12 div.sk-toggleable {background-color: white;}#sk-container-id-12 label.sk-toggleable__label {cursor: pointer;display: block;width: 100%;margin-bottom: 0;padding: 0.3em;box-sizing: border-box;text-align: center;}#sk-container-id-12 label.sk-toggleable__label-arrow:before {content: \"▸\";float: left;margin-right: 0.25em;color: #696969;}#sk-container-id-12 label.sk-toggleable__label-arrow:hover:before {color: black;}#sk-container-id-12 div.sk-estimator:hover label.sk-toggleable__label-arrow:before {color: black;}#sk-container-id-12 div.sk-toggleable__content {max-height: 0;max-width: 0;overflow: hidden;text-align: left;background-color: #f0f8ff;}#sk-container-id-12 div.sk-toggleable__content pre {margin: 0.2em;color: black;border-radius: 0.25em;background-color: #f0f8ff;}#sk-container-id-12 input.sk-toggleable__control:checked~div.sk-toggleable__content {max-height: 200px;max-width: 100%;overflow: auto;}#sk-container-id-12 input.sk-toggleable__control:checked~label.sk-toggleable__label-arrow:before {content: \"▾\";}#sk-container-id-12 div.sk-estimator input.sk-toggleable__control:checked~label.sk-toggleable__label {background-color: #d4ebff;}#sk-container-id-12 div.sk-label input.sk-toggleable__control:checked~label.sk-toggleable__label {background-color: #d4ebff;}#sk-container-id-12 input.sk-hidden--visually {border: 0;clip: rect(1px 1px 1px 1px);clip: rect(1px, 1px, 1px, 1px);height: 1px;margin: -1px;overflow: hidden;padding: 0;position: absolute;width: 1px;}#sk-container-id-12 div.sk-estimator {font-family: monospace;background-color: #f0f8ff;border: 1px dotted black;border-radius: 0.25em;box-sizing: border-box;margin-bottom: 0.5em;}#sk-container-id-12 div.sk-estimator:hover {background-color: #d4ebff;}#sk-container-id-12 div.sk-parallel-item::after {content: \"\";width: 100%;border-bottom: 1px solid gray;flex-grow: 1;}#sk-container-id-12 div.sk-label:hover label.sk-toggleable__label {background-color: #d4ebff;}#sk-container-id-12 div.sk-serial::before {content: \"\";position: absolute;border-left: 1px solid gray;box-sizing: border-box;top: 0;bottom: 0;left: 50%;z-index: 0;}#sk-container-id-12 div.sk-serial {display: flex;flex-direction: column;align-items: center;background-color: white;padding-right: 0.2em;padding-left: 0.2em;position: relative;}#sk-container-id-12 div.sk-item {position: relative;z-index: 1;}#sk-container-id-12 div.sk-parallel {display: flex;align-items: stretch;justify-content: center;background-color: white;position: relative;}#sk-container-id-12 div.sk-item::before, #sk-container-id-12 div.sk-parallel-item::before {content: \"\";position: absolute;border-left: 1px solid gray;box-sizing: border-box;top: 0;bottom: 0;left: 50%;z-index: -1;}#sk-container-id-12 div.sk-parallel-item {display: flex;flex-direction: column;z-index: 1;position: relative;background-color: white;}#sk-container-id-12 div.sk-parallel-item:first-child::after {align-self: flex-end;width: 50%;}#sk-container-id-12 div.sk-parallel-item:last-child::after {align-self: flex-start;width: 50%;}#sk-container-id-12 div.sk-parallel-item:only-child::after {width: 0;}#sk-container-id-12 div.sk-dashed-wrapped {border: 1px dashed gray;margin: 0 0.4em 0.5em 0.4em;box-sizing: border-box;padding-bottom: 0.4em;background-color: white;}#sk-container-id-12 div.sk-label label {font-family: monospace;font-weight: bold;display: inline-block;line-height: 1.2em;}#sk-container-id-12 div.sk-label-container {text-align: center;}#sk-container-id-12 div.sk-container {/* jupyter's `normalize.less` sets `[hidden] { display: none; }` but bootstrap.min.css set `[hidden] { display: none !important; }` so we also need the `!important` here to be able to override the default hidden behavior on the sphinx rendered scikit-learn.org. See: https://github.com/scikit-learn/scikit-learn/issues/21755 */display: inline-block !important;position: relative;}#sk-container-id-12 div.sk-text-repr-fallback {display: none;}</style><div id=\"sk-container-id-12\" class=\"sk-top-container\"><div class=\"sk-text-repr-fallback\"><pre>RandomForestClassifier(bootstrap=True, ccp_alpha=0.0, class_weight=None,\n",
              "                       criterion=&#x27;gini&#x27;, max_depth=None, max_features=&#x27;sqrt&#x27;,\n",
              "                       max_leaf_nodes=None, max_samples=None,\n",
              "                       min_impurity_decrease=0.0, min_samples_leaf=1,\n",
              "                       min_samples_split=2, min_weight_fraction_leaf=0.0,\n",
              "                       n_estimators=10, n_jobs=None, oob_score=False,\n",
              "                       random_state=None, verbose=0, warm_start=False)</pre><b>In a Jupyter environment, please rerun this cell to show the HTML representation or trust the notebook. <br />On GitHub, the HTML representation is unable to render, please try loading this page with nbviewer.org.</b></div><div class=\"sk-container\" hidden><div class=\"sk-item\"><div class=\"sk-estimator sk-toggleable\"><input class=\"sk-toggleable__control sk-hidden--visually\" id=\"sk-estimator-id-12\" type=\"checkbox\" checked><label for=\"sk-estimator-id-12\" class=\"sk-toggleable__label sk-toggleable__label-arrow\">RandomForestClassifier</label><div class=\"sk-toggleable__content\"><pre>RandomForestClassifier(bootstrap=True, ccp_alpha=0.0, class_weight=None,\n",
              "                       criterion=&#x27;gini&#x27;, max_depth=None, max_features=&#x27;sqrt&#x27;,\n",
              "                       max_leaf_nodes=None, max_samples=None,\n",
              "                       min_impurity_decrease=0.0, min_samples_leaf=1,\n",
              "                       min_samples_split=2, min_weight_fraction_leaf=0.0,\n",
              "                       n_estimators=10, n_jobs=None, oob_score=False,\n",
              "                       random_state=None, verbose=0, warm_start=False)</pre></div></div></div></div></div>"
            ]
          },
          "metadata": {},
          "execution_count": 84
        }
      ]
    },
    {
      "cell_type": "code",
      "source": [
        "# Prueba nro. 1\n",
        "evaluar_modelo(rndf, test_data, test_labels)"
      ],
      "metadata": {
        "colab": {
          "base_uri": "https://localhost:8080/",
          "height": 663
        },
        "id": "qeVwK7Dvg0Rp",
        "outputId": "cc0f1b01-156f-4f21-eb66-0a0debc16d87"
      },
      "execution_count": null,
      "outputs": [
        {
          "output_type": "stream",
          "name": "stdout",
          "text": [
            "Rendimiento obtenido: 0.8997995991983968\n",
            "Reporte de indicadores:\n",
            "               precision    recall  f1-score   support\n",
            "\n",
            "           0       0.90      0.90      0.90       249\n",
            "           1       0.90      0.90      0.90       250\n",
            "\n",
            "    accuracy                           0.90       499\n",
            "   macro avg       0.90      0.90      0.90       499\n",
            "weighted avg       0.90      0.90      0.90       499\n",
            "\n",
            "Matriz de confusión:\n"
          ]
        },
        {
          "output_type": "display_data",
          "data": {
            "text/plain": [
              "<Figure size 640x480 with 2 Axes>"
            ],
            "image/png": "[encoded data removed]"
          },
          "metadata": {}
        }
      ]
    },
    {
      "cell_type": "code",
      "source": [
        "from sklearn.ensemble import GradientBoostingClassifier\n",
        "\n",
        "# Prueba nro. 1\n",
        "gbc = GradientBoostingClassifier(n_estimators=100, learning_rate=1.0,\n",
        "    max_depth=1, random_state=0)\n",
        "\n",
        "gbc.fit(train_data, train_labels)"
      ],
      "metadata": {
        "colab": {
          "base_uri": "https://localhost:8080/",
          "height": 214
        },
        "id": "hhjZNFgIg8da",
        "outputId": "86619607-9b76-4493-ae16-ebb4cc94367a"
      },
      "execution_count": null,
      "outputs": [
        {
          "output_type": "execute_result",
          "data": {
            "text/plain": [
              "GradientBoostingClassifier(ccp_alpha=0.0, criterion='friedman_mse', init=None,\n",
              "                           learning_rate=1.0, loss='log_loss', max_depth=1,\n",
              "                           max_features=None, max_leaf_nodes=None,\n",
              "                           min_impurity_decrease=0.0, min_samples_leaf=1,\n",
              "                           min_samples_split=2, min_weight_fraction_leaf=0.0,\n",
              "                           n_estimators=100, n_iter_no_change=None,\n",
              "                           random_state=0, subsample=1.0, tol=0.0001,\n",
              "                           validation_fraction=0.1, verbose=0,\n",
              "                           warm_start=False)"
            ],
            "text/html": [
              "<style>#sk-container-id-10 {color: black;background-color: white;}#sk-container-id-10 pre{padding: 0;}#sk-container-id-10 div.sk-toggleable {background-color: white;}#sk-container-id-10 label.sk-toggleable__label {cursor: pointer;display: block;width: 100%;margin-bottom: 0;padding: 0.3em;box-sizing: border-box;text-align: center;}#sk-container-id-10 label.sk-toggleable__label-arrow:before {content: \"▸\";float: left;margin-right: 0.25em;color: #696969;}#sk-container-id-10 label.sk-toggleable__label-arrow:hover:before {color: black;}#sk-container-id-10 div.sk-estimator:hover label.sk-toggleable__label-arrow:before {color: black;}#sk-container-id-10 div.sk-toggleable__content {max-height: 0;max-width: 0;overflow: hidden;text-align: left;background-color: #f0f8ff;}#sk-container-id-10 div.sk-toggleable__content pre {margin: 0.2em;color: black;border-radius: 0.25em;background-color: #f0f8ff;}#sk-container-id-10 input.sk-toggleable__control:checked~div.sk-toggleable__content {max-height: 200px;max-width: 100%;overflow: auto;}#sk-container-id-10 input.sk-toggleable__control:checked~label.sk-toggleable__label-arrow:before {content: \"▾\";}#sk-container-id-10 div.sk-estimator input.sk-toggleable__control:checked~label.sk-toggleable__label {background-color: #d4ebff;}#sk-container-id-10 div.sk-label input.sk-toggleable__control:checked~label.sk-toggleable__label {background-color: #d4ebff;}#sk-container-id-10 input.sk-hidden--visually {border: 0;clip: rect(1px 1px 1px 1px);clip: rect(1px, 1px, 1px, 1px);height: 1px;margin: -1px;overflow: hidden;padding: 0;position: absolute;width: 1px;}#sk-container-id-10 div.sk-estimator {font-family: monospace;background-color: #f0f8ff;border: 1px dotted black;border-radius: 0.25em;box-sizing: border-box;margin-bottom: 0.5em;}#sk-container-id-10 div.sk-estimator:hover {background-color: #d4ebff;}#sk-container-id-10 div.sk-parallel-item::after {content: \"\";width: 100%;border-bottom: 1px solid gray;flex-grow: 1;}#sk-container-id-10 div.sk-label:hover label.sk-toggleable__label {background-color: #d4ebff;}#sk-container-id-10 div.sk-serial::before {content: \"\";position: absolute;border-left: 1px solid gray;box-sizing: border-box;top: 0;bottom: 0;left: 50%;z-index: 0;}#sk-container-id-10 div.sk-serial {display: flex;flex-direction: column;align-items: center;background-color: white;padding-right: 0.2em;padding-left: 0.2em;position: relative;}#sk-container-id-10 div.sk-item {position: relative;z-index: 1;}#sk-container-id-10 div.sk-parallel {display: flex;align-items: stretch;justify-content: center;background-color: white;position: relative;}#sk-container-id-10 div.sk-item::before, #sk-container-id-10 div.sk-parallel-item::before {content: \"\";position: absolute;border-left: 1px solid gray;box-sizing: border-box;top: 0;bottom: 0;left: 50%;z-index: -1;}#sk-container-id-10 div.sk-parallel-item {display: flex;flex-direction: column;z-index: 1;position: relative;background-color: white;}#sk-container-id-10 div.sk-parallel-item:first-child::after {align-self: flex-end;width: 50%;}#sk-container-id-10 div.sk-parallel-item:last-child::after {align-self: flex-start;width: 50%;}#sk-container-id-10 div.sk-parallel-item:only-child::after {width: 0;}#sk-container-id-10 div.sk-dashed-wrapped {border: 1px dashed gray;margin: 0 0.4em 0.5em 0.4em;box-sizing: border-box;padding-bottom: 0.4em;background-color: white;}#sk-container-id-10 div.sk-label label {font-family: monospace;font-weight: bold;display: inline-block;line-height: 1.2em;}#sk-container-id-10 div.sk-label-container {text-align: center;}#sk-container-id-10 div.sk-container {/* jupyter's `normalize.less` sets `[hidden] { display: none; }` but bootstrap.min.css set `[hidden] { display: none !important; }` so we also need the `!important` here to be able to override the default hidden behavior on the sphinx rendered scikit-learn.org. See: https://github.com/scikit-learn/scikit-learn/issues/21755 */display: inline-block !important;position: relative;}#sk-container-id-10 div.sk-text-repr-fallback {display: none;}</style><div id=\"sk-container-id-10\" class=\"sk-top-container\"><div class=\"sk-text-repr-fallback\"><pre>GradientBoostingClassifier(ccp_alpha=0.0, criterion=&#x27;friedman_mse&#x27;, init=None,\n",
              "                           learning_rate=1.0, loss=&#x27;log_loss&#x27;, max_depth=1,\n",
              "                           max_features=None, max_leaf_nodes=None,\n",
              "                           min_impurity_decrease=0.0, min_samples_leaf=1,\n",
              "                           min_samples_split=2, min_weight_fraction_leaf=0.0,\n",
              "                           n_estimators=100, n_iter_no_change=None,\n",
              "                           random_state=0, subsample=1.0, tol=0.0001,\n",
              "                           validation_fraction=0.1, verbose=0,\n",
              "                           warm_start=False)</pre><b>In a Jupyter environment, please rerun this cell to show the HTML representation or trust the notebook. <br />On GitHub, the HTML representation is unable to render, please try loading this page with nbviewer.org.</b></div><div class=\"sk-container\" hidden><div class=\"sk-item\"><div class=\"sk-estimator sk-toggleable\"><input class=\"sk-toggleable__control sk-hidden--visually\" id=\"sk-estimator-id-10\" type=\"checkbox\" checked><label for=\"sk-estimator-id-10\" class=\"sk-toggleable__label sk-toggleable__label-arrow\">GradientBoostingClassifier</label><div class=\"sk-toggleable__content\"><pre>GradientBoostingClassifier(ccp_alpha=0.0, criterion=&#x27;friedman_mse&#x27;, init=None,\n",
              "                           learning_rate=1.0, loss=&#x27;log_loss&#x27;, max_depth=1,\n",
              "                           max_features=None, max_leaf_nodes=None,\n",
              "                           min_impurity_decrease=0.0, min_samples_leaf=1,\n",
              "                           min_samples_split=2, min_weight_fraction_leaf=0.0,\n",
              "                           n_estimators=100, n_iter_no_change=None,\n",
              "                           random_state=0, subsample=1.0, tol=0.0001,\n",
              "                           validation_fraction=0.1, verbose=0,\n",
              "                           warm_start=False)</pre></div></div></div></div></div>"
            ]
          },
          "metadata": {},
          "execution_count": 80
        }
      ]
    },
    {
      "cell_type": "code",
      "source": [
        "# Prueba nro. 1\n",
        "evaluar_modelo(gbc, test_data, test_labels)"
      ],
      "metadata": {
        "colab": {
          "base_uri": "https://localhost:8080/",
          "height": 657
        },
        "id": "Ei3tNtsThBsV",
        "outputId": "174865a2-89be-408e-dd59-db14df2f5ebd"
      },
      "execution_count": null,
      "outputs": [
        {
          "output_type": "stream",
          "name": "stdout",
          "text": [
            "Rendimiento obtenido: 0.9258517034068137\n",
            "Reporte de indicadores:\n",
            "               precision    recall  f1-score   support\n",
            "\n",
            "           0       0.93      0.92      0.92       249\n",
            "           1       0.92      0.94      0.93       250\n",
            "\n",
            "    accuracy                           0.93       499\n",
            "   macro avg       0.93      0.93      0.93       499\n",
            "weighted avg       0.93      0.93      0.93       499\n",
            "\n",
            "Matriz de confusión:\n"
          ]
        },
        {
          "output_type": "display_data",
          "data": {
            "text/plain": [
              "<Figure size 640x480 with 2 Axes>"
            ],
            "image/png": "[encoded data removed]"
          },
          "metadata": {}
        }
      ]
    },
    {
      "cell_type": "code",
      "source": [
        "from sklearn.ensemble import RandomForestClassifier\n",
        "\n",
        "# Crear y entrenar el modelo RandomForestClassifier con los datos de entrenamiento\n",
        "rndf = RandomForestClassifier(n_estimators=100,  # Aumenta el número de árboles\n",
        "                              max_depth=None,  # Utiliza la profundidad máxima predeterminada\n",
        "                              min_samples_split=2,  # Número mínimo de muestras para dividir un nodo\n",
        "                              min_samples_leaf=1,  # Número mínimo de muestras en una hoja\n",
        "                              random_state=42)  # Fija la semilla aleatoria para reproducibilidad\n",
        "rndf.fit(test_data, test_labels)  # Asumiendo que test_data y test_labels son tus datos de prueba\n"
      ],
      "metadata": {
        "colab": {
          "base_uri": "https://localhost:8080/",
          "height": 179
        },
        "id": "dFfLe_huiOCx",
        "outputId": "cb216cb7-0fa4-4ce5-c7ac-d7b1e0391321"
      },
      "execution_count": null,
      "outputs": [
        {
          "output_type": "execute_result",
          "data": {
            "text/plain": [
              "RandomForestClassifier(bootstrap=True, ccp_alpha=0.0, class_weight=None,\n",
              "                       criterion='gini', max_depth=None, max_features='sqrt',\n",
              "                       max_leaf_nodes=None, max_samples=None,\n",
              "                       min_impurity_decrease=0.0, min_samples_leaf=1,\n",
              "                       min_samples_split=2, min_weight_fraction_leaf=0.0,\n",
              "                       n_estimators=100, n_jobs=None, oob_score=False,\n",
              "                       random_state=42, verbose=0, warm_start=False)"
            ],
            "text/html": [
              "<style>#sk-container-id-14 {color: black;background-color: white;}#sk-container-id-14 pre{padding: 0;}#sk-container-id-14 div.sk-toggleable {background-color: white;}#sk-container-id-14 label.sk-toggleable__label {cursor: pointer;display: block;width: 100%;margin-bottom: 0;padding: 0.3em;box-sizing: border-box;text-align: center;}#sk-container-id-14 label.sk-toggleable__label-arrow:before {content: \"▸\";float: left;margin-right: 0.25em;color: #696969;}#sk-container-id-14 label.sk-toggleable__label-arrow:hover:before {color: black;}#sk-container-id-14 div.sk-estimator:hover label.sk-toggleable__label-arrow:before {color: black;}#sk-container-id-14 div.sk-toggleable__content {max-height: 0;max-width: 0;overflow: hidden;text-align: left;background-color: #f0f8ff;}#sk-container-id-14 div.sk-toggleable__content pre {margin: 0.2em;color: black;border-radius: 0.25em;background-color: #f0f8ff;}#sk-container-id-14 input.sk-toggleable__control:checked~div.sk-toggleable__content {max-height: 200px;max-width: 100%;overflow: auto;}#sk-container-id-14 input.sk-toggleable__control:checked~label.sk-toggleable__label-arrow:before {content: \"▾\";}#sk-container-id-14 div.sk-estimator input.sk-toggleable__control:checked~label.sk-toggleable__label {background-color: #d4ebff;}#sk-container-id-14 div.sk-label input.sk-toggleable__control:checked~label.sk-toggleable__label {background-color: #d4ebff;}#sk-container-id-14 input.sk-hidden--visually {border: 0;clip: rect(1px 1px 1px 1px);clip: rect(1px, 1px, 1px, 1px);height: 1px;margin: -1px;overflow: hidden;padding: 0;position: absolute;width: 1px;}#sk-container-id-14 div.sk-estimator {font-family: monospace;background-color: #f0f8ff;border: 1px dotted black;border-radius: 0.25em;box-sizing: border-box;margin-bottom: 0.5em;}#sk-container-id-14 div.sk-estimator:hover {background-color: #d4ebff;}#sk-container-id-14 div.sk-parallel-item::after {content: \"\";width: 100%;border-bottom: 1px solid gray;flex-grow: 1;}#sk-container-id-14 div.sk-label:hover label.sk-toggleable__label {background-color: #d4ebff;}#sk-container-id-14 div.sk-serial::before {content: \"\";position: absolute;border-left: 1px solid gray;box-sizing: border-box;top: 0;bottom: 0;left: 50%;z-index: 0;}#sk-container-id-14 div.sk-serial {display: flex;flex-direction: column;align-items: center;background-color: white;padding-right: 0.2em;padding-left: 0.2em;position: relative;}#sk-container-id-14 div.sk-item {position: relative;z-index: 1;}#sk-container-id-14 div.sk-parallel {display: flex;align-items: stretch;justify-content: center;background-color: white;position: relative;}#sk-container-id-14 div.sk-item::before, #sk-container-id-14 div.sk-parallel-item::before {content: \"\";position: absolute;border-left: 1px solid gray;box-sizing: border-box;top: 0;bottom: 0;left: 50%;z-index: -1;}#sk-container-id-14 div.sk-parallel-item {display: flex;flex-direction: column;z-index: 1;position: relative;background-color: white;}#sk-container-id-14 div.sk-parallel-item:first-child::after {align-self: flex-end;width: 50%;}#sk-container-id-14 div.sk-parallel-item:last-child::after {align-self: flex-start;width: 50%;}#sk-container-id-14 div.sk-parallel-item:only-child::after {width: 0;}#sk-container-id-14 div.sk-dashed-wrapped {border: 1px dashed gray;margin: 0 0.4em 0.5em 0.4em;box-sizing: border-box;padding-bottom: 0.4em;background-color: white;}#sk-container-id-14 div.sk-label label {font-family: monospace;font-weight: bold;display: inline-block;line-height: 1.2em;}#sk-container-id-14 div.sk-label-container {text-align: center;}#sk-container-id-14 div.sk-container {/* jupyter's `normalize.less` sets `[hidden] { display: none; }` but bootstrap.min.css set `[hidden] { display: none !important; }` so we also need the `!important` here to be able to override the default hidden behavior on the sphinx rendered scikit-learn.org. See: https://github.com/scikit-learn/scikit-learn/issues/21755 */display: inline-block !important;position: relative;}#sk-container-id-14 div.sk-text-repr-fallback {display: none;}</style><div id=\"sk-container-id-14\" class=\"sk-top-container\"><div class=\"sk-text-repr-fallback\"><pre>RandomForestClassifier(bootstrap=True, ccp_alpha=0.0, class_weight=None,\n",
              "                       criterion=&#x27;gini&#x27;, max_depth=None, max_features=&#x27;sqrt&#x27;,\n",
              "                       max_leaf_nodes=None, max_samples=None,\n",
              "                       min_impurity_decrease=0.0, min_samples_leaf=1,\n",
              "                       min_samples_split=2, min_weight_fraction_leaf=0.0,\n",
              "                       n_estimators=100, n_jobs=None, oob_score=False,\n",
              "                       random_state=42, verbose=0, warm_start=False)</pre><b>In a Jupyter environment, please rerun this cell to show the HTML representation or trust the notebook. <br />On GitHub, the HTML representation is unable to render, please try loading this page with nbviewer.org.</b></div><div class=\"sk-container\" hidden><div class=\"sk-item\"><div class=\"sk-estimator sk-toggleable\"><input class=\"sk-toggleable__control sk-hidden--visually\" id=\"sk-estimator-id-14\" type=\"checkbox\" checked><label for=\"sk-estimator-id-14\" class=\"sk-toggleable__label sk-toggleable__label-arrow\">RandomForestClassifier</label><div class=\"sk-toggleable__content\"><pre>RandomForestClassifier(bootstrap=True, ccp_alpha=0.0, class_weight=None,\n",
              "                       criterion=&#x27;gini&#x27;, max_depth=None, max_features=&#x27;sqrt&#x27;,\n",
              "                       max_leaf_nodes=None, max_samples=None,\n",
              "                       min_impurity_decrease=0.0, min_samples_leaf=1,\n",
              "                       min_samples_split=2, min_weight_fraction_leaf=0.0,\n",
              "                       n_estimators=100, n_jobs=None, oob_score=False,\n",
              "                       random_state=42, verbose=0, warm_start=False)</pre></div></div></div></div></div>"
            ]
          },
          "metadata": {},
          "execution_count": 88
        }
      ]
    },
    {
      "cell_type": "code",
      "source": [
        "# Prueba nro. 3\n",
        "evaluar_modelo(rndf, test_data, test_labels)"
      ],
      "metadata": {
        "colab": {
          "base_uri": "https://localhost:8080/",
          "height": 663
        },
        "id": "af9qR_BEiR7B",
        "outputId": "7332f008-8e62-4200-eb5a-e075ed3c7f2b"
      },
      "execution_count": null,
      "outputs": [
        {
          "output_type": "stream",
          "name": "stdout",
          "text": [
            "Rendimiento obtenido: 1.0\n",
            "Reporte de indicadores:\n",
            "               precision    recall  f1-score   support\n",
            "\n",
            "           0       1.00      1.00      1.00       249\n",
            "           1       1.00      1.00      1.00       250\n",
            "\n",
            "    accuracy                           1.00       499\n",
            "   macro avg       1.00      1.00      1.00       499\n",
            "weighted avg       1.00      1.00      1.00       499\n",
            "\n",
            "Matriz de confusión:\n"
          ]
        },
        {
          "output_type": "display_data",
          "data": {
            "text/plain": [
              "<Figure size 640x480 with 2 Axes>"
            ],
            "image/png": "[encoded data removed]"
          },
          "metadata": {}
        }
      ]
    },
    {
      "cell_type": "markdown",
      "source": [],
      "metadata": {
        "id": "VId5Gtb-gr-O"
      }
    },
    {
      "cell_type": "code",
      "source": [
        "from sklearn.ensemble import RandomForestClassifier\n",
        "\n",
        "# Crear y entrenar el modelo RandomForestClassifier\n",
        "rndf = RandomForestClassifier(n_estimators=10)\n",
        "rndf.fit(test_data, test_labels)  # Asumiendo que X_train e y_train son tus datos de entrenamiento\n"
      ],
      "metadata": {
        "id": "cdlxPjJUBmu3",
        "outputId": "b9f50414-5dd1-439a-96e6-07f8e077b8d6",
        "colab": {
          "base_uri": "https://localhost:8080/",
          "height": 179
        }
      },
      "execution_count": null,
      "outputs": [
        {
          "output_type": "execute_result",
          "data": {
            "text/plain": [
              "RandomForestClassifier(bootstrap=True, ccp_alpha=0.0, class_weight=None,\n",
              "                       criterion='gini', max_depth=None, max_features='sqrt',\n",
              "                       max_leaf_nodes=None, max_samples=None,\n",
              "                       min_impurity_decrease=0.0, min_samples_leaf=1,\n",
              "                       min_samples_split=2, min_weight_fraction_leaf=0.0,\n",
              "                       n_estimators=10, n_jobs=None, oob_score=False,\n",
              "                       random_state=None, verbose=0, warm_start=False)"
            ],
            "text/html": [
              "<style>#sk-container-id-15 {color: black;background-color: white;}#sk-container-id-15 pre{padding: 0;}#sk-container-id-15 div.sk-toggleable {background-color: white;}#sk-container-id-15 label.sk-toggleable__label {cursor: pointer;display: block;width: 100%;margin-bottom: 0;padding: 0.3em;box-sizing: border-box;text-align: center;}#sk-container-id-15 label.sk-toggleable__label-arrow:before {content: \"▸\";float: left;margin-right: 0.25em;color: #696969;}#sk-container-id-15 label.sk-toggleable__label-arrow:hover:before {color: black;}#sk-container-id-15 div.sk-estimator:hover label.sk-toggleable__label-arrow:before {color: black;}#sk-container-id-15 div.sk-toggleable__content {max-height: 0;max-width: 0;overflow: hidden;text-align: left;background-color: #f0f8ff;}#sk-container-id-15 div.sk-toggleable__content pre {margin: 0.2em;color: black;border-radius: 0.25em;background-color: #f0f8ff;}#sk-container-id-15 input.sk-toggleable__control:checked~div.sk-toggleable__content {max-height: 200px;max-width: 100%;overflow: auto;}#sk-container-id-15 input.sk-toggleable__control:checked~label.sk-toggleable__label-arrow:before {content: \"▾\";}#sk-container-id-15 div.sk-estimator input.sk-toggleable__control:checked~label.sk-toggleable__label {background-color: #d4ebff;}#sk-container-id-15 div.sk-label input.sk-toggleable__control:checked~label.sk-toggleable__label {background-color: #d4ebff;}#sk-container-id-15 input.sk-hidden--visually {border: 0;clip: rect(1px 1px 1px 1px);clip: rect(1px, 1px, 1px, 1px);height: 1px;margin: -1px;overflow: hidden;padding: 0;position: absolute;width: 1px;}#sk-container-id-15 div.sk-estimator {font-family: monospace;background-color: #f0f8ff;border: 1px dotted black;border-radius: 0.25em;box-sizing: border-box;margin-bottom: 0.5em;}#sk-container-id-15 div.sk-estimator:hover {background-color: #d4ebff;}#sk-container-id-15 div.sk-parallel-item::after {content: \"\";width: 100%;border-bottom: 1px solid gray;flex-grow: 1;}#sk-container-id-15 div.sk-label:hover label.sk-toggleable__label {background-color: #d4ebff;}#sk-container-id-15 div.sk-serial::before {content: \"\";position: absolute;border-left: 1px solid gray;box-sizing: border-box;top: 0;bottom: 0;left: 50%;z-index: 0;}#sk-container-id-15 div.sk-serial {display: flex;flex-direction: column;align-items: center;background-color: white;padding-right: 0.2em;padding-left: 0.2em;position: relative;}#sk-container-id-15 div.sk-item {position: relative;z-index: 1;}#sk-container-id-15 div.sk-parallel {display: flex;align-items: stretch;justify-content: center;background-color: white;position: relative;}#sk-container-id-15 div.sk-item::before, #sk-container-id-15 div.sk-parallel-item::before {content: \"\";position: absolute;border-left: 1px solid gray;box-sizing: border-box;top: 0;bottom: 0;left: 50%;z-index: -1;}#sk-container-id-15 div.sk-parallel-item {display: flex;flex-direction: column;z-index: 1;position: relative;background-color: white;}#sk-container-id-15 div.sk-parallel-item:first-child::after {align-self: flex-end;width: 50%;}#sk-container-id-15 div.sk-parallel-item:last-child::after {align-self: flex-start;width: 50%;}#sk-container-id-15 div.sk-parallel-item:only-child::after {width: 0;}#sk-container-id-15 div.sk-dashed-wrapped {border: 1px dashed gray;margin: 0 0.4em 0.5em 0.4em;box-sizing: border-box;padding-bottom: 0.4em;background-color: white;}#sk-container-id-15 div.sk-label label {font-family: monospace;font-weight: bold;display: inline-block;line-height: 1.2em;}#sk-container-id-15 div.sk-label-container {text-align: center;}#sk-container-id-15 div.sk-container {/* jupyter's `normalize.less` sets `[hidden] { display: none; }` but bootstrap.min.css set `[hidden] { display: none !important; }` so we also need the `!important` here to be able to override the default hidden behavior on the sphinx rendered scikit-learn.org. See: https://github.com/scikit-learn/scikit-learn/issues/21755 */display: inline-block !important;position: relative;}#sk-container-id-15 div.sk-text-repr-fallback {display: none;}</style><div id=\"sk-container-id-15\" class=\"sk-top-container\"><div class=\"sk-text-repr-fallback\"><pre>RandomForestClassifier(bootstrap=True, ccp_alpha=0.0, class_weight=None,\n",
              "                       criterion=&#x27;gini&#x27;, max_depth=None, max_features=&#x27;sqrt&#x27;,\n",
              "                       max_leaf_nodes=None, max_samples=None,\n",
              "                       min_impurity_decrease=0.0, min_samples_leaf=1,\n",
              "                       min_samples_split=2, min_weight_fraction_leaf=0.0,\n",
              "                       n_estimators=10, n_jobs=None, oob_score=False,\n",
              "                       random_state=None, verbose=0, warm_start=False)</pre><b>In a Jupyter environment, please rerun this cell to show the HTML representation or trust the notebook. <br />On GitHub, the HTML representation is unable to render, please try loading this page with nbviewer.org.</b></div><div class=\"sk-container\" hidden><div class=\"sk-item\"><div class=\"sk-estimator sk-toggleable\"><input class=\"sk-toggleable__control sk-hidden--visually\" id=\"sk-estimator-id-15\" type=\"checkbox\" checked><label for=\"sk-estimator-id-15\" class=\"sk-toggleable__label sk-toggleable__label-arrow\">RandomForestClassifier</label><div class=\"sk-toggleable__content\"><pre>RandomForestClassifier(bootstrap=True, ccp_alpha=0.0, class_weight=None,\n",
              "                       criterion=&#x27;gini&#x27;, max_depth=None, max_features=&#x27;sqrt&#x27;,\n",
              "                       max_leaf_nodes=None, max_samples=None,\n",
              "                       min_impurity_decrease=0.0, min_samples_leaf=1,\n",
              "                       min_samples_split=2, min_weight_fraction_leaf=0.0,\n",
              "                       n_estimators=10, n_jobs=None, oob_score=False,\n",
              "                       random_state=None, verbose=0, warm_start=False)</pre></div></div></div></div></div>"
            ]
          },
          "metadata": {},
          "execution_count": 91
        }
      ]
    },
    {
      "cell_type": "code",
      "source": [
        "# Prueba nro. 1\n",
        "evaluar_modelo(rndf, test_data, test_labels)  # Asumiendo que X_test e y_test son tus datos de prueba\n"
      ],
      "metadata": {
        "id": "q8iPR_53BrwD",
        "outputId": "4c9f9b17-a857-44b1-a14c-212390302dd0",
        "colab": {
          "base_uri": "https://localhost:8080/",
          "height": 657
        }
      },
      "execution_count": null,
      "outputs": [
        {
          "output_type": "stream",
          "name": "stdout",
          "text": [
            "Rendimiento obtenido: 0.9899799599198397\n",
            "Reporte de indicadores:\n",
            "               precision    recall  f1-score   support\n",
            "\n",
            "           0       0.99      0.99      0.99       249\n",
            "           1       0.99      0.99      0.99       250\n",
            "\n",
            "    accuracy                           0.99       499\n",
            "   macro avg       0.99      0.99      0.99       499\n",
            "weighted avg       0.99      0.99      0.99       499\n",
            "\n",
            "Matriz de confusión:\n"
          ]
        },
        {
          "output_type": "display_data",
          "data": {
            "text/plain": [
              "<Figure size 640x480 with 2 Axes>"
            ],
            "image/png": "[encoded data removed]"
          },
          "metadata": {}
        }
      ]
    }
  ]
}